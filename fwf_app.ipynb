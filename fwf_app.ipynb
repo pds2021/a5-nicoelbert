{
  "nbformat": 4,
  "nbformat_minor": 0,
  "metadata": {
    "colab": {
      "name": "Untitled10.ipynb",
      "provenance": [],
      "authorship_tag": "ABX9TyOqOYXoweFxZCO/sFyChg+g",
      "include_colab_link": true
    },
    "kernelspec": {
      "name": "python3",
      "display_name": "Python 3"
    },
    "widgets": {
      "application/vnd.jupyter.widget-state+json": {
        "95d93aecc2884ccfabc1e5fea6a01685": {
          "model_module": "@jupyter-widgets/controls",
          "model_name": "FileUploadModel",
          "state": {
            "_view_name": "FileUploadView",
            "_counter": 2,
            "style": "IPY_MODEL_7025349fbe8746a7bb08ec9428da3d20",
            "_dom_classes": [],
            "description": "Upload",
            "multiple": false,
            "_model_name": "FileUploadModel",
            "data": [
              null
            ],
            "button_style": "",
            "_view_module": "@jupyter-widgets/controls",
            "_model_module_version": "1.5.0",
            "accept": "",
            "_view_count": null,
            "disabled": false,
            "_view_module_version": "1.5.0",
            "error": "",
            "description_tooltip": null,
            "metadata": [
              {
                "name": "af1.jpg",
                "type": "image/jpeg",
                "size": 145645,
                "lastModified": 1608992411000
              }
            ],
            "_model_module": "@jupyter-widgets/controls",
            "layout": "IPY_MODEL_1eb73369ddee4e91b80b9abee1b8b920",
            "icon": "upload"
          }
        },
        "7025349fbe8746a7bb08ec9428da3d20": {
          "model_module": "@jupyter-widgets/controls",
          "model_name": "ButtonStyleModel",
          "state": {
            "_view_name": "StyleView",
            "_model_name": "ButtonStyleModel",
            "_view_module": "@jupyter-widgets/base",
            "_model_module_version": "1.5.0",
            "_view_count": null,
            "button_color": null,
            "font_weight": "",
            "_view_module_version": "1.2.0",
            "_model_module": "@jupyter-widgets/controls"
          }
        },
        "1eb73369ddee4e91b80b9abee1b8b920": {
          "model_module": "@jupyter-widgets/base",
          "model_name": "LayoutModel",
          "state": {
            "_view_name": "LayoutView",
            "grid_template_rows": null,
            "right": null,
            "justify_content": null,
            "_view_module": "@jupyter-widgets/base",
            "overflow": null,
            "_model_module_version": "1.2.0",
            "_view_count": null,
            "flex_flow": null,
            "width": null,
            "min_width": null,
            "border": null,
            "align_items": null,
            "bottom": null,
            "_model_module": "@jupyter-widgets/base",
            "top": null,
            "grid_column": null,
            "overflow_y": null,
            "overflow_x": null,
            "grid_auto_flow": null,
            "grid_area": null,
            "grid_template_columns": null,
            "flex": null,
            "_model_name": "LayoutModel",
            "justify_items": null,
            "grid_row": null,
            "max_height": null,
            "align_content": null,
            "visibility": null,
            "align_self": null,
            "height": null,
            "min_height": null,
            "padding": null,
            "grid_auto_rows": null,
            "grid_gap": null,
            "max_width": null,
            "order": null,
            "_view_module_version": "1.2.0",
            "grid_template_areas": null,
            "object_position": null,
            "object_fit": null,
            "grid_auto_columns": null,
            "margin": null,
            "display": null,
            "left": null
          }
        },
        "f997f00447e64ec988b48cbe7f568786": {
          "model_module": "@jupyter-widgets/controls",
          "model_name": "ButtonModel",
          "state": {
            "_view_name": "ButtonView",
            "style": "IPY_MODEL_066486e5fe1e46e9921d3989daea0bf7",
            "_dom_classes": [],
            "description": "Classify",
            "_model_name": "ButtonModel",
            "button_style": "",
            "_view_module": "@jupyter-widgets/controls",
            "_model_module_version": "1.5.0",
            "tooltip": "",
            "_view_count": null,
            "disabled": false,
            "_view_module_version": "1.5.0",
            "layout": "IPY_MODEL_c63b7824dd014f8ab2d4cc615b4eb28b",
            "_model_module": "@jupyter-widgets/controls",
            "icon": ""
          }
        },
        "066486e5fe1e46e9921d3989daea0bf7": {
          "model_module": "@jupyter-widgets/controls",
          "model_name": "ButtonStyleModel",
          "state": {
            "_view_name": "StyleView",
            "_model_name": "ButtonStyleModel",
            "_view_module": "@jupyter-widgets/base",
            "_model_module_version": "1.5.0",
            "_view_count": null,
            "button_color": null,
            "font_weight": "",
            "_view_module_version": "1.2.0",
            "_model_module": "@jupyter-widgets/controls"
          }
        },
        "c63b7824dd014f8ab2d4cc615b4eb28b": {
          "model_module": "@jupyter-widgets/base",
          "model_name": "LayoutModel",
          "state": {
            "_view_name": "LayoutView",
            "grid_template_rows": null,
            "right": null,
            "justify_content": null,
            "_view_module": "@jupyter-widgets/base",
            "overflow": null,
            "_model_module_version": "1.2.0",
            "_view_count": null,
            "flex_flow": null,
            "width": null,
            "min_width": null,
            "border": null,
            "align_items": null,
            "bottom": null,
            "_model_module": "@jupyter-widgets/base",
            "top": null,
            "grid_column": null,
            "overflow_y": null,
            "overflow_x": null,
            "grid_auto_flow": null,
            "grid_area": null,
            "grid_template_columns": null,
            "flex": null,
            "_model_name": "LayoutModel",
            "justify_items": null,
            "grid_row": null,
            "max_height": null,
            "align_content": null,
            "visibility": null,
            "align_self": null,
            "height": null,
            "min_height": null,
            "padding": null,
            "grid_auto_rows": null,
            "grid_gap": null,
            "max_width": null,
            "order": null,
            "_view_module_version": "1.2.0",
            "grid_template_areas": null,
            "object_position": null,
            "object_fit": null,
            "grid_auto_columns": null,
            "margin": null,
            "display": null,
            "left": null
          }
        }
      }
    }
  },
  "cells": [
    {
      "cell_type": "markdown",
      "metadata": {
        "id": "view-in-github",
        "colab_type": "text"
      },
      "source": [
        "<a href=\"https://colab.research.google.com/github/pds2021/a5-nicoelbert/blob/assignment_5/fwf_app.ipynb\" target=\"_parent\"><img src=\"https://colab.research.google.com/assets/colab-badge.svg\" alt=\"Open In Colab\"/></a>"
      ]
    },
    {
      "cell_type": "code",
      "metadata": {
        "colab": {
          "base_uri": "https://localhost:8080/"
        },
        "id": "7jGxxAn5lqbv",
        "outputId": "a9be8caa-fd21-461b-a725-eb642b472c86"
      },
      "source": [
        "!pip install -Uqq fastai  # upgrade fastai on colab\r\n",
        "from fastai.vision.all import *\r\n",
        "from fastai.vision.widgets import *\r\n",
        "import os, shutil"
      ],
      "execution_count": 2,
      "outputs": [
        {
          "output_type": "stream",
          "text": [
            "\u001b[K     |████████████████████████████████| 194kB 7.7MB/s \n",
            "\u001b[K     |████████████████████████████████| 61kB 6.2MB/s \n",
            "\u001b[?25h"
          ],
          "name": "stdout"
        }
      ]
    },
    {
      "cell_type": "code",
      "metadata": {
        "colab": {
          "base_uri": "https://localhost:8080/"
        },
        "id": "6SMcoQBIlj2v",
        "outputId": "6cdd9776-341d-4707-c2e2-62695b66f6ae"
      },
      "source": [
        "from google.colab import drive\r\n",
        "drive.mount('/content/drive')\r\n",
        "\r\n",
        "%cd /content/drive/MyDrive/Uni/PDS/FWF\r\n",
        "\r\n",
        "path = Path(r'/content/drive/MyDrive/Uni/PDS/FWF')\r\n",
        "data_path = Path(r'/content/drive/MyDrive/Uni/PDS/FWF/data')\r\n",
        "data_path.ls()"
      ],
      "execution_count": 3,
      "outputs": [
        {
          "output_type": "stream",
          "text": [
            "Drive already mounted at /content/drive; to attempt to forcibly remount, call drive.mount(\"/content/drive\", force_remount=True).\n",
            "/content/drive/MyDrive/Uni/PDS/FWF\n"
          ],
          "name": "stdout"
        },
        {
          "output_type": "execute_result",
          "data": {
            "text/plain": [
              "(#240) [Path('/content/drive/MyDrive/Uni/PDS/FWF/data/AF'),Path('/content/drive/MyDrive/Uni/PDS/FWF/data/AL'),Path('/content/drive/MyDrive/Uni/PDS/FWF/data/DZ'),Path('/content/drive/MyDrive/Uni/PDS/FWF/data/AS'),Path('/content/drive/MyDrive/Uni/PDS/FWF/data/AD'),Path('/content/drive/MyDrive/Uni/PDS/FWF/data/AO'),Path('/content/drive/MyDrive/Uni/PDS/FWF/data/AI'),Path('/content/drive/MyDrive/Uni/PDS/FWF/data/AQ'),Path('/content/drive/MyDrive/Uni/PDS/FWF/data/AG'),Path('/content/drive/MyDrive/Uni/PDS/FWF/data/AR')...]"
            ]
          },
          "metadata": {
            "tags": []
          },
          "execution_count": 3
        }
      ]
    },
    {
      "cell_type": "code",
      "metadata": {
        "id": "Nr0wmgbqnWFV"
      },
      "source": [
        "#load Masterdata\r\n",
        "df_countries = pd.read_csv('/content/drive/MyDrive/Uni/PDS/FWF/countries.CSV')\r\n",
        "\r\n",
        "\r\n",
        "dict_countrynames = df_countries.set_index('Code').to_dict()['Country']\r\n",
        "list_countrycodes= df_countries['Code'].tolist()\r\n"
      ],
      "execution_count": 29,
      "outputs": []
    },
    {
      "cell_type": "code",
      "metadata": {
        "id": "eDTDbSWvtWvX"
      },
      "source": [
        "def getPreText(confidence):\r\n",
        "  #return the right preffix text based on the confidence\r\n",
        "  pretext = \"\"\r\n",
        "  if confidence >= 0.9:\r\n",
        "    pretext = \"This is the flag of \"\r\n",
        "  elif confidence >= 0.8:\r\n",
        "    pretext = \"I am pretty sure, that this is the flag of \"\r\n",
        "  elif confidence >= 0.7:\r\n",
        "    pretext = \"This should be the flag of \"\r\n",
        "  elif confidence >= 0.6:\r\n",
        "    pretext = \"This might be the flag of \"\r\n",
        "  elif confidence < 0.4:\r\n",
        "    pretext = \"I have to guess - eventually the flag of \"\r\n",
        "  return pretext\r\n",
        "\r\n",
        "def getAfterText(confidence):\r\n",
        "  #return right suffix\r\n",
        "  c_percentage = \"{} %\".format(round(confidence * 100,1))\r\n",
        "  aftertext = \". - I can say this with a confidence of \" + c_percentage\r\n",
        "  return aftertext\r\n",
        "\r\n",
        "\r\n",
        "def on_click_classify(change):\r\n",
        "  #get image\r\n",
        "  img = PILImage.create(btn_upload.data[-1])\r\n",
        "  out_pl = widgets.Output()\r\n",
        "  out_pl.clear_output()\r\n",
        "  with out_pl:display(img.to_thumb(256,256))\r\n",
        "\r\n",
        "  #make prediction and retrieve information\r\n",
        "  country_id = learn_inf.predict(img)[0]\r\n",
        "  country_tensor_index = learn_inf.predict(img)[1].item()\r\n",
        "  confidence = learn_inf.predict(img)[2].numpy()[country_tensor_index]\r\n",
        "\r\n",
        "  #read full country name \r\n",
        "  country_name = dict_countrynames[country_id]\r\n",
        "\r\n",
        "  #get fitting strings\r\n",
        "  if confidence > 0:\r\n",
        "    pretext= getPreText(confidence)\r\n",
        "    aftertext = getAfterText(confidence)\r\n",
        "  else:\r\n",
        "    pretext= \"No prediction possible\"\r\n",
        "    aftertext = \"\"\r\n",
        "  print(pretext + country_name + aftertext)\r\n"
      ],
      "execution_count": 62,
      "outputs": []
    },
    {
      "cell_type": "code",
      "metadata": {
        "colab": {
          "base_uri": "https://localhost:8080/",
          "height": 49,
          "referenced_widgets": [
            "95d93aecc2884ccfabc1e5fea6a01685",
            "7025349fbe8746a7bb08ec9428da3d20",
            "1eb73369ddee4e91b80b9abee1b8b920"
          ]
        },
        "id": "brAd9vdelklm",
        "outputId": "bdb3007f-8b79-4a46-f4f1-3d9cb82c4c8d"
      },
      "source": [
        "from fastai.vision.widgets import *\r\n",
        "learn_inf = load_learner(path/'export.pkl')\r\n",
        "\r\n",
        "btn_upload = widgets.FileUpload()\r\n",
        "btn_upload\r\n",
        "\r\n"
      ],
      "execution_count": 60,
      "outputs": [
        {
          "output_type": "display_data",
          "data": {
            "application/vnd.jupyter.widget-view+json": {
              "model_id": "95d93aecc2884ccfabc1e5fea6a01685",
              "version_minor": 0,
              "version_major": 2
            },
            "text/plain": [
              "FileUpload(value={}, description='Upload')"
            ]
          },
          "metadata": {
            "tags": []
          }
        }
      ]
    },
    {
      "cell_type": "code",
      "metadata": {
        "colab": {
          "base_uri": "https://localhost:8080/",
          "height": 83,
          "referenced_widgets": [
            "f997f00447e64ec988b48cbe7f568786",
            "066486e5fe1e46e9921d3989daea0bf7",
            "c63b7824dd014f8ab2d4cc615b4eb28b"
          ]
        },
        "id": "pBd93ulJvRwv",
        "outputId": "a0243be0-f3a5-47b5-8034-d9f32680eac8"
      },
      "source": [
        "btn_run = widgets.Button(description='Classify')\r\n",
        "btn_run.on_click(on_click_classify)\r\n",
        "btn_run"
      ],
      "execution_count": 63,
      "outputs": [
        {
          "output_type": "display_data",
          "data": {
            "application/vnd.jupyter.widget-view+json": {
              "model_id": "f997f00447e64ec988b48cbe7f568786",
              "version_minor": 0,
              "version_major": 2
            },
            "text/plain": [
              "Button(description='Classify', style=ButtonStyle())"
            ]
          },
          "metadata": {
            "tags": []
          }
        },
        {
          "output_type": "display_data",
          "data": {
            "text/html": [
              ""
            ],
            "text/plain": [
              "<IPython.core.display.HTML object>"
            ]
          },
          "metadata": {
            "tags": []
          }
        },
        {
          "output_type": "display_data",
          "data": {
            "text/html": [
              ""
            ],
            "text/plain": [
              "<IPython.core.display.HTML object>"
            ]
          },
          "metadata": {
            "tags": []
          }
        },
        {
          "output_type": "display_data",
          "data": {
            "text/html": [
              ""
            ],
            "text/plain": [
              "<IPython.core.display.HTML object>"
            ]
          },
          "metadata": {
            "tags": []
          }
        },
        {
          "output_type": "stream",
          "text": [
            "I have to guess - eventually the flag of Singapore. - I can say this with a confidence of 28.1 %\n"
          ],
          "name": "stdout"
        },
        {
          "output_type": "display_data",
          "data": {
            "text/html": [
              ""
            ],
            "text/plain": [
              "<IPython.core.display.HTML object>"
            ]
          },
          "metadata": {
            "tags": []
          }
        },
        {
          "output_type": "display_data",
          "data": {
            "text/html": [
              ""
            ],
            "text/plain": [
              "<IPython.core.display.HTML object>"
            ]
          },
          "metadata": {
            "tags": []
          }
        },
        {
          "output_type": "display_data",
          "data": {
            "text/html": [
              ""
            ],
            "text/plain": [
              "<IPython.core.display.HTML object>"
            ]
          },
          "metadata": {
            "tags": []
          }
        },
        {
          "output_type": "stream",
          "text": [
            "I have to guess - eventually the flag of Afghanistan. - I can say this with a confidence of 22.7 %\n"
          ],
          "name": "stdout"
        }
      ]
    },
    {
      "cell_type": "code",
      "metadata": {
        "id": "tgW7mX7NmmwO"
      },
      "source": [
        ""
      ],
      "execution_count": null,
      "outputs": []
    }
  ]
}
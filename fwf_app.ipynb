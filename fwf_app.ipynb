{
  "nbformat": 4,
  "nbformat_minor": 0,
  "metadata": {
    "colab": {
      "name": "Untitled10.ipynb",
      "provenance": [],
      "authorship_tag": "ABX9TyORDbmm/nNJdmClXFssUWNF",
      "include_colab_link": true
    },
    "kernelspec": {
      "name": "python3",
      "display_name": "Python 3"
    },
    "widgets": {
      "application/vnd.jupyter.widget-state+json": {
        "eccf2c87308b4fc28edc0353d80d94ef": {
          "model_module": "@jupyter-widgets/controls",
          "model_name": "AccordionModel",
          "state": {
            "_view_name": "AccordionView",
            "_dom_classes": [],
            "_titles": {
              "0": "Upload",
              "1": "Result"
            },
            "_model_name": "AccordionModel",
            "_view_module": "@jupyter-widgets/controls",
            "selected_index": 0,
            "_model_module_version": "1.5.0",
            "_view_count": null,
            "_view_module_version": "1.5.0",
            "box_style": "",
            "layout": "IPY_MODEL_7b3b473b124c4d8cb9d11229206ded1d",
            "_model_module": "@jupyter-widgets/controls",
            "children": [
              "IPY_MODEL_d59ace3879174a9c9249c31cb1c706d3",
              "IPY_MODEL_8538685288734c04afe4ebefc85b933e"
            ]
          }
        },
        "7b3b473b124c4d8cb9d11229206ded1d": {
          "model_module": "@jupyter-widgets/base",
          "model_name": "LayoutModel",
          "state": {
            "_view_name": "LayoutView",
            "grid_template_rows": null,
            "right": null,
            "justify_content": null,
            "_view_module": "@jupyter-widgets/base",
            "overflow": null,
            "_model_module_version": "1.2.0",
            "_view_count": null,
            "flex_flow": null,
            "width": null,
            "min_width": null,
            "border": null,
            "align_items": null,
            "bottom": null,
            "_model_module": "@jupyter-widgets/base",
            "top": null,
            "grid_column": null,
            "overflow_y": null,
            "overflow_x": null,
            "grid_auto_flow": null,
            "grid_area": null,
            "grid_template_columns": null,
            "flex": null,
            "_model_name": "LayoutModel",
            "justify_items": null,
            "grid_row": null,
            "max_height": null,
            "align_content": null,
            "visibility": null,
            "align_self": null,
            "height": null,
            "min_height": null,
            "padding": null,
            "grid_auto_rows": null,
            "grid_gap": null,
            "max_width": null,
            "order": null,
            "_view_module_version": "1.2.0",
            "grid_template_areas": null,
            "object_position": null,
            "object_fit": null,
            "grid_auto_columns": null,
            "margin": null,
            "display": null,
            "left": null
          }
        },
        "d59ace3879174a9c9249c31cb1c706d3": {
          "model_module": "@jupyter-widgets/controls",
          "model_name": "VBoxModel",
          "state": {
            "_view_name": "VBoxView",
            "_dom_classes": [],
            "_model_name": "VBoxModel",
            "_view_module": "@jupyter-widgets/controls",
            "_model_module_version": "1.5.0",
            "_view_count": null,
            "_view_module_version": "1.5.0",
            "box_style": "",
            "layout": "IPY_MODEL_df9ade1d348a4267b6320bece8f43807",
            "_model_module": "@jupyter-widgets/controls",
            "children": [
              "IPY_MODEL_6f9fb42af70f471689352513597f8473",
              "IPY_MODEL_dff2b9d8fa7c4ea2aeaaadff8cde8e9d",
              "IPY_MODEL_e3f6a78d049146c3af21feeabe405b03",
              "IPY_MODEL_022cdcf6301a4eea8747d1d436510cac"
            ]
          }
        },
        "8538685288734c04afe4ebefc85b933e": {
          "model_module": "@jupyter-widgets/controls",
          "model_name": "TextModel",
          "state": {
            "_view_name": "TextView",
            "style": "IPY_MODEL_c05186a073944fa3b30c076693a47989",
            "_dom_classes": [],
            "description": "",
            "_model_name": "TextModel",
            "placeholder": "​",
            "_view_module": "@jupyter-widgets/controls",
            "_model_module_version": "1.5.0",
            "value": "",
            "_view_count": null,
            "disabled": false,
            "_view_module_version": "1.5.0",
            "continuous_update": true,
            "description_tooltip": null,
            "_model_module": "@jupyter-widgets/controls",
            "layout": "IPY_MODEL_ae58bee33f3849e89c61781e58bee64a"
          }
        },
        "df9ade1d348a4267b6320bece8f43807": {
          "model_module": "@jupyter-widgets/base",
          "model_name": "LayoutModel",
          "state": {
            "_view_name": "LayoutView",
            "grid_template_rows": null,
            "right": null,
            "justify_content": null,
            "_view_module": "@jupyter-widgets/base",
            "overflow": null,
            "_model_module_version": "1.2.0",
            "_view_count": null,
            "flex_flow": null,
            "width": null,
            "min_width": null,
            "border": null,
            "align_items": null,
            "bottom": null,
            "_model_module": "@jupyter-widgets/base",
            "top": null,
            "grid_column": null,
            "overflow_y": null,
            "overflow_x": null,
            "grid_auto_flow": null,
            "grid_area": null,
            "grid_template_columns": null,
            "flex": null,
            "_model_name": "LayoutModel",
            "justify_items": null,
            "grid_row": null,
            "max_height": null,
            "align_content": null,
            "visibility": null,
            "align_self": null,
            "height": null,
            "min_height": null,
            "padding": null,
            "grid_auto_rows": null,
            "grid_gap": null,
            "max_width": null,
            "order": null,
            "_view_module_version": "1.2.0",
            "grid_template_areas": null,
            "object_position": null,
            "object_fit": null,
            "grid_auto_columns": null,
            "margin": null,
            "display": null,
            "left": null
          }
        },
        "6f9fb42af70f471689352513597f8473": {
          "model_module": "@jupyter-widgets/controls",
          "model_name": "LabelModel",
          "state": {
            "_view_name": "LabelView",
            "style": "IPY_MODEL_f85edb497c07401f991c9282af86f3f4",
            "_dom_classes": [],
            "description": "",
            "_model_name": "LabelModel",
            "placeholder": "​",
            "_view_module": "@jupyter-widgets/controls",
            "_model_module_version": "1.5.0",
            "value": "Upload the flag you want to learn about",
            "_view_count": null,
            "_view_module_version": "1.5.0",
            "description_tooltip": null,
            "_model_module": "@jupyter-widgets/controls",
            "layout": "IPY_MODEL_214cc6eea1da4a278d3a43b52c920897"
          }
        },
        "dff2b9d8fa7c4ea2aeaaadff8cde8e9d": {
          "model_module": "@jupyter-widgets/controls",
          "model_name": "HBoxModel",
          "state": {
            "_view_name": "HBoxView",
            "_dom_classes": [],
            "_model_name": "HBoxModel",
            "_view_module": "@jupyter-widgets/controls",
            "_model_module_version": "1.5.0",
            "_view_count": null,
            "_view_module_version": "1.5.0",
            "box_style": "",
            "layout": "IPY_MODEL_1bcdedf8374048b797fa8c115fbcbfd0",
            "_model_module": "@jupyter-widgets/controls",
            "children": [
              "IPY_MODEL_578373116d6c48efa531cb548f645871",
              "IPY_MODEL_1884a17d19984315a6c4a7d35c427f53",
              "IPY_MODEL_7030702c188f48c8a065a25e8bf9c83b"
            ]
          }
        },
        "e3f6a78d049146c3af21feeabe405b03": {
          "model_module": "@jupyter-widgets/controls",
          "model_name": "LabelModel",
          "state": {
            "_view_name": "LabelView",
            "style": "IPY_MODEL_2cc527f6537e40cfac1745c9bd780c49",
            "_dom_classes": [],
            "description": "",
            "_model_name": "LabelModel",
            "placeholder": "​",
            "_view_module": "@jupyter-widgets/controls",
            "_model_module_version": "1.5.0",
            "value": "You uploaded the following image: ",
            "_view_count": null,
            "_view_module_version": "1.5.0",
            "description_tooltip": null,
            "_model_module": "@jupyter-widgets/controls",
            "layout": "IPY_MODEL_e96760422a484befbb0e4f71780d5a05"
          }
        },
        "022cdcf6301a4eea8747d1d436510cac": {
          "model_module": "@jupyter-widgets/output",
          "model_name": "OutputModel",
          "state": {
            "_view_name": "OutputView",
            "msg_id": "",
            "_dom_classes": [],
            "_model_name": "OutputModel",
            "outputs": [
              {
                "output_type": "display_data",
                "metadata": {
                  "tags": []
                },
                "image/png": "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\n",
                "text/plain": "<PIL.Image.Image image mode=RGB size=256x192 at 0x7F5B7E31ABE0>"
              }
            ],
            "_view_module": "@jupyter-widgets/output",
            "_model_module_version": "1.0.0",
            "_view_count": null,
            "_view_module_version": "1.0.0",
            "layout": "IPY_MODEL_661c371dacce4f7994000bc1101408a3",
            "_model_module": "@jupyter-widgets/output"
          }
        },
        "c05186a073944fa3b30c076693a47989": {
          "model_module": "@jupyter-widgets/controls",
          "model_name": "DescriptionStyleModel",
          "state": {
            "_view_name": "StyleView",
            "_model_name": "DescriptionStyleModel",
            "description_width": "",
            "_view_module": "@jupyter-widgets/base",
            "_model_module_version": "1.5.0",
            "_view_count": null,
            "_view_module_version": "1.2.0",
            "_model_module": "@jupyter-widgets/controls"
          }
        },
        "ae58bee33f3849e89c61781e58bee64a": {
          "model_module": "@jupyter-widgets/base",
          "model_name": "LayoutModel",
          "state": {
            "_view_name": "LayoutView",
            "grid_template_rows": null,
            "right": null,
            "justify_content": null,
            "_view_module": "@jupyter-widgets/base",
            "overflow": null,
            "_model_module_version": "1.2.0",
            "_view_count": null,
            "flex_flow": null,
            "width": null,
            "min_width": null,
            "border": null,
            "align_items": null,
            "bottom": null,
            "_model_module": "@jupyter-widgets/base",
            "top": null,
            "grid_column": null,
            "overflow_y": null,
            "overflow_x": null,
            "grid_auto_flow": null,
            "grid_area": null,
            "grid_template_columns": null,
            "flex": null,
            "_model_name": "LayoutModel",
            "justify_items": null,
            "grid_row": null,
            "max_height": null,
            "align_content": null,
            "visibility": null,
            "align_self": null,
            "height": null,
            "min_height": null,
            "padding": null,
            "grid_auto_rows": null,
            "grid_gap": null,
            "max_width": null,
            "order": null,
            "_view_module_version": "1.2.0",
            "grid_template_areas": null,
            "object_position": null,
            "object_fit": null,
            "grid_auto_columns": null,
            "margin": null,
            "display": null,
            "left": null
          }
        },
        "f85edb497c07401f991c9282af86f3f4": {
          "model_module": "@jupyter-widgets/controls",
          "model_name": "DescriptionStyleModel",
          "state": {
            "_view_name": "StyleView",
            "_model_name": "DescriptionStyleModel",
            "description_width": "",
            "_view_module": "@jupyter-widgets/base",
            "_model_module_version": "1.5.0",
            "_view_count": null,
            "_view_module_version": "1.2.0",
            "_model_module": "@jupyter-widgets/controls"
          }
        },
        "214cc6eea1da4a278d3a43b52c920897": {
          "model_module": "@jupyter-widgets/base",
          "model_name": "LayoutModel",
          "state": {
            "_view_name": "LayoutView",
            "grid_template_rows": null,
            "right": null,
            "justify_content": null,
            "_view_module": "@jupyter-widgets/base",
            "overflow": null,
            "_model_module_version": "1.2.0",
            "_view_count": null,
            "flex_flow": null,
            "width": null,
            "min_width": null,
            "border": null,
            "align_items": null,
            "bottom": null,
            "_model_module": "@jupyter-widgets/base",
            "top": null,
            "grid_column": null,
            "overflow_y": null,
            "overflow_x": null,
            "grid_auto_flow": null,
            "grid_area": null,
            "grid_template_columns": null,
            "flex": null,
            "_model_name": "LayoutModel",
            "justify_items": null,
            "grid_row": null,
            "max_height": null,
            "align_content": null,
            "visibility": null,
            "align_self": null,
            "height": null,
            "min_height": null,
            "padding": null,
            "grid_auto_rows": null,
            "grid_gap": null,
            "max_width": null,
            "order": null,
            "_view_module_version": "1.2.0",
            "grid_template_areas": null,
            "object_position": null,
            "object_fit": null,
            "grid_auto_columns": null,
            "margin": null,
            "display": null,
            "left": null
          }
        },
        "1bcdedf8374048b797fa8c115fbcbfd0": {
          "model_module": "@jupyter-widgets/base",
          "model_name": "LayoutModel",
          "state": {
            "_view_name": "LayoutView",
            "grid_template_rows": null,
            "right": null,
            "justify_content": null,
            "_view_module": "@jupyter-widgets/base",
            "overflow": null,
            "_model_module_version": "1.2.0",
            "_view_count": null,
            "flex_flow": null,
            "width": null,
            "min_width": null,
            "border": null,
            "align_items": null,
            "bottom": null,
            "_model_module": "@jupyter-widgets/base",
            "top": null,
            "grid_column": null,
            "overflow_y": null,
            "overflow_x": null,
            "grid_auto_flow": null,
            "grid_area": null,
            "grid_template_columns": null,
            "flex": null,
            "_model_name": "LayoutModel",
            "justify_items": null,
            "grid_row": null,
            "max_height": null,
            "align_content": null,
            "visibility": null,
            "align_self": null,
            "height": null,
            "min_height": null,
            "padding": null,
            "grid_auto_rows": null,
            "grid_gap": null,
            "max_width": null,
            "order": null,
            "_view_module_version": "1.2.0",
            "grid_template_areas": null,
            "object_position": null,
            "object_fit": null,
            "grid_auto_columns": null,
            "margin": null,
            "display": null,
            "left": null
          }
        },
        "578373116d6c48efa531cb548f645871": {
          "model_module": "@jupyter-widgets/controls",
          "model_name": "FileUploadModel",
          "state": {
            "_view_name": "FileUploadView",
            "_counter": 1,
            "style": "IPY_MODEL_7c12ce07d82d4c2b816bfaaf51ed297e",
            "_dom_classes": [],
            "description": "Upload",
            "multiple": false,
            "_model_name": "FileUploadModel",
            "data": [
              null
            ],
            "button_style": "",
            "_view_module": "@jupyter-widgets/controls",
            "_model_module_version": "1.5.0",
            "accept": "",
            "_view_count": null,
            "disabled": false,
            "_view_module_version": "1.5.0",
            "error": "",
            "description_tooltip": null,
            "metadata": [
              {
                "name": "af1.jpg",
                "type": "image/jpeg",
                "size": 145645,
                "lastModified": 1608992411000
              }
            ],
            "_model_module": "@jupyter-widgets/controls",
            "layout": "IPY_MODEL_4a3b80e89a0245518a63674dcb34f097",
            "icon": "upload"
          }
        },
        "1884a17d19984315a6c4a7d35c427f53": {
          "model_module": "@jupyter-widgets/controls",
          "model_name": "ButtonModel",
          "state": {
            "_view_name": "ButtonView",
            "style": "IPY_MODEL_097a560caf464d3d895c3bf0712f1185",
            "_dom_classes": [],
            "description": "Show Upload",
            "_model_name": "ButtonModel",
            "button_style": "",
            "_view_module": "@jupyter-widgets/controls",
            "_model_module_version": "1.5.0",
            "tooltip": "",
            "_view_count": null,
            "disabled": false,
            "_view_module_version": "1.5.0",
            "layout": "IPY_MODEL_412048a6e9a54bfbb18ccc2026dc8ab8",
            "_model_module": "@jupyter-widgets/controls",
            "icon": ""
          }
        },
        "7030702c188f48c8a065a25e8bf9c83b": {
          "model_module": "@jupyter-widgets/controls",
          "model_name": "ButtonModel",
          "state": {
            "_view_name": "ButtonView",
            "style": "IPY_MODEL_6ec1c9eb12cd41b2b48c9aebd5ee01f9",
            "_dom_classes": [],
            "description": "Classify",
            "_model_name": "ButtonModel",
            "button_style": "",
            "_view_module": "@jupyter-widgets/controls",
            "_model_module_version": "1.5.0",
            "tooltip": "",
            "_view_count": null,
            "disabled": false,
            "_view_module_version": "1.5.0",
            "layout": "IPY_MODEL_b475552adc1346c7968f1956dd20cfde",
            "_model_module": "@jupyter-widgets/controls",
            "icon": ""
          }
        },
        "2cc527f6537e40cfac1745c9bd780c49": {
          "model_module": "@jupyter-widgets/controls",
          "model_name": "DescriptionStyleModel",
          "state": {
            "_view_name": "StyleView",
            "_model_name": "DescriptionStyleModel",
            "description_width": "",
            "_view_module": "@jupyter-widgets/base",
            "_model_module_version": "1.5.0",
            "_view_count": null,
            "_view_module_version": "1.2.0",
            "_model_module": "@jupyter-widgets/controls"
          }
        },
        "e96760422a484befbb0e4f71780d5a05": {
          "model_module": "@jupyter-widgets/base",
          "model_name": "LayoutModel",
          "state": {
            "_view_name": "LayoutView",
            "grid_template_rows": null,
            "right": null,
            "justify_content": null,
            "_view_module": "@jupyter-widgets/base",
            "overflow": null,
            "_model_module_version": "1.2.0",
            "_view_count": null,
            "flex_flow": null,
            "width": null,
            "min_width": null,
            "border": null,
            "align_items": null,
            "bottom": null,
            "_model_module": "@jupyter-widgets/base",
            "top": null,
            "grid_column": null,
            "overflow_y": null,
            "overflow_x": null,
            "grid_auto_flow": null,
            "grid_area": null,
            "grid_template_columns": null,
            "flex": null,
            "_model_name": "LayoutModel",
            "justify_items": null,
            "grid_row": null,
            "max_height": null,
            "align_content": null,
            "visibility": null,
            "align_self": null,
            "height": null,
            "min_height": null,
            "padding": null,
            "grid_auto_rows": null,
            "grid_gap": null,
            "max_width": null,
            "order": null,
            "_view_module_version": "1.2.0",
            "grid_template_areas": null,
            "object_position": null,
            "object_fit": null,
            "grid_auto_columns": null,
            "margin": null,
            "display": null,
            "left": null
          }
        },
        "7c12ce07d82d4c2b816bfaaf51ed297e": {
          "model_module": "@jupyter-widgets/controls",
          "model_name": "ButtonStyleModel",
          "state": {
            "_view_name": "StyleView",
            "_model_name": "ButtonStyleModel",
            "_view_module": "@jupyter-widgets/base",
            "_model_module_version": "1.5.0",
            "_view_count": null,
            "button_color": null,
            "font_weight": "",
            "_view_module_version": "1.2.0",
            "_model_module": "@jupyter-widgets/controls"
          }
        },
        "4a3b80e89a0245518a63674dcb34f097": {
          "model_module": "@jupyter-widgets/base",
          "model_name": "LayoutModel",
          "state": {
            "_view_name": "LayoutView",
            "grid_template_rows": null,
            "right": null,
            "justify_content": null,
            "_view_module": "@jupyter-widgets/base",
            "overflow": null,
            "_model_module_version": "1.2.0",
            "_view_count": null,
            "flex_flow": null,
            "width": null,
            "min_width": null,
            "border": null,
            "align_items": null,
            "bottom": null,
            "_model_module": "@jupyter-widgets/base",
            "top": null,
            "grid_column": null,
            "overflow_y": null,
            "overflow_x": null,
            "grid_auto_flow": null,
            "grid_area": null,
            "grid_template_columns": null,
            "flex": null,
            "_model_name": "LayoutModel",
            "justify_items": null,
            "grid_row": null,
            "max_height": null,
            "align_content": null,
            "visibility": null,
            "align_self": null,
            "height": null,
            "min_height": null,
            "padding": null,
            "grid_auto_rows": null,
            "grid_gap": null,
            "max_width": null,
            "order": null,
            "_view_module_version": "1.2.0",
            "grid_template_areas": null,
            "object_position": null,
            "object_fit": null,
            "grid_auto_columns": null,
            "margin": null,
            "display": null,
            "left": null
          }
        },
        "097a560caf464d3d895c3bf0712f1185": {
          "model_module": "@jupyter-widgets/controls",
          "model_name": "ButtonStyleModel",
          "state": {
            "_view_name": "StyleView",
            "_model_name": "ButtonStyleModel",
            "_view_module": "@jupyter-widgets/base",
            "_model_module_version": "1.5.0",
            "_view_count": null,
            "button_color": null,
            "font_weight": "",
            "_view_module_version": "1.2.0",
            "_model_module": "@jupyter-widgets/controls"
          }
        },
        "412048a6e9a54bfbb18ccc2026dc8ab8": {
          "model_module": "@jupyter-widgets/base",
          "model_name": "LayoutModel",
          "state": {
            "_view_name": "LayoutView",
            "grid_template_rows": null,
            "right": null,
            "justify_content": null,
            "_view_module": "@jupyter-widgets/base",
            "overflow": null,
            "_model_module_version": "1.2.0",
            "_view_count": null,
            "flex_flow": null,
            "width": null,
            "min_width": null,
            "border": null,
            "align_items": null,
            "bottom": null,
            "_model_module": "@jupyter-widgets/base",
            "top": null,
            "grid_column": null,
            "overflow_y": null,
            "overflow_x": null,
            "grid_auto_flow": null,
            "grid_area": null,
            "grid_template_columns": null,
            "flex": null,
            "_model_name": "LayoutModel",
            "justify_items": null,
            "grid_row": null,
            "max_height": null,
            "align_content": null,
            "visibility": null,
            "align_self": null,
            "height": null,
            "min_height": null,
            "padding": null,
            "grid_auto_rows": null,
            "grid_gap": null,
            "max_width": null,
            "order": null,
            "_view_module_version": "1.2.0",
            "grid_template_areas": null,
            "object_position": null,
            "object_fit": null,
            "grid_auto_columns": null,
            "margin": null,
            "display": null,
            "left": null
          }
        },
        "6ec1c9eb12cd41b2b48c9aebd5ee01f9": {
          "model_module": "@jupyter-widgets/controls",
          "model_name": "ButtonStyleModel",
          "state": {
            "_view_name": "StyleView",
            "_model_name": "ButtonStyleModel",
            "_view_module": "@jupyter-widgets/base",
            "_model_module_version": "1.5.0",
            "_view_count": null,
            "button_color": null,
            "font_weight": "",
            "_view_module_version": "1.2.0",
            "_model_module": "@jupyter-widgets/controls"
          }
        },
        "b475552adc1346c7968f1956dd20cfde": {
          "model_module": "@jupyter-widgets/base",
          "model_name": "LayoutModel",
          "state": {
            "_view_name": "LayoutView",
            "grid_template_rows": null,
            "right": null,
            "justify_content": null,
            "_view_module": "@jupyter-widgets/base",
            "overflow": null,
            "_model_module_version": "1.2.0",
            "_view_count": null,
            "flex_flow": null,
            "width": null,
            "min_width": null,
            "border": null,
            "align_items": null,
            "bottom": null,
            "_model_module": "@jupyter-widgets/base",
            "top": null,
            "grid_column": null,
            "overflow_y": null,
            "overflow_x": null,
            "grid_auto_flow": null,
            "grid_area": null,
            "grid_template_columns": null,
            "flex": null,
            "_model_name": "LayoutModel",
            "justify_items": null,
            "grid_row": null,
            "max_height": null,
            "align_content": null,
            "visibility": null,
            "align_self": null,
            "height": null,
            "min_height": null,
            "padding": null,
            "grid_auto_rows": null,
            "grid_gap": null,
            "max_width": null,
            "order": null,
            "_view_module_version": "1.2.0",
            "grid_template_areas": null,
            "object_position": null,
            "object_fit": null,
            "grid_auto_columns": null,
            "margin": null,
            "display": null,
            "left": null
          }
        },
        "661c371dacce4f7994000bc1101408a3": {
          "model_module": "@jupyter-widgets/base",
          "model_name": "LayoutModel",
          "state": {
            "_view_name": "LayoutView",
            "grid_template_rows": null,
            "right": null,
            "justify_content": null,
            "_view_module": "@jupyter-widgets/base",
            "overflow": null,
            "_model_module_version": "1.2.0",
            "_view_count": null,
            "flex_flow": null,
            "width": null,
            "min_width": null,
            "border": null,
            "align_items": null,
            "bottom": null,
            "_model_module": "@jupyter-widgets/base",
            "top": null,
            "grid_column": null,
            "overflow_y": null,
            "overflow_x": null,
            "grid_auto_flow": null,
            "grid_area": null,
            "grid_template_columns": null,
            "flex": null,
            "_model_name": "LayoutModel",
            "justify_items": null,
            "grid_row": null,
            "max_height": null,
            "align_content": null,
            "visibility": null,
            "align_self": null,
            "height": null,
            "min_height": null,
            "padding": null,
            "grid_auto_rows": null,
            "grid_gap": null,
            "max_width": null,
            "order": null,
            "_view_module_version": "1.2.0",
            "grid_template_areas": null,
            "object_position": null,
            "object_fit": null,
            "grid_auto_columns": null,
            "margin": null,
            "display": null,
            "left": null
          }
        }
      }
    }
  },
  "cells": [
    {
      "cell_type": "markdown",
      "metadata": {
        "id": "view-in-github",
        "colab_type": "text"
      },
      "source": [
        "<a href=\"https://colab.research.google.com/github/pds2021/a5-nicoelbert/blob/assignment_5/fwf_app.ipynb\" target=\"_parent\"><img src=\"https://colab.research.google.com/assets/colab-badge.svg\" alt=\"Open In Colab\"/></a>"
      ]
    },
    {
      "cell_type": "code",
      "metadata": {
        "id": "7jGxxAn5lqbv"
      },
      "source": [
        "!pip install -Uqq fastai  # upgrade fastai on colab\r\n",
        "from fastai.vision.all import *\r\n",
        "from fastai.vision.widgets import *\r\n",
        "import os, shutil\r\n",
        "\r\n",
        "from PIL import Image\r\n",
        "import requests\r\n",
        "from io import BytesIO\r\n",
        "from fastai.vision.widgets import *"
      ],
      "execution_count": 1,
      "outputs": []
    },
    {
      "cell_type": "code",
      "metadata": {
        "colab": {
          "base_uri": "https://localhost:8080/"
        },
        "id": "6SMcoQBIlj2v",
        "outputId": "75c7c61a-d729-475e-83aa-e7701de04295"
      },
      "source": [
        "from google.colab import drive\r\n",
        "drive.mount('/content/drive')\r\n",
        "\r\n",
        "%cd /content/drive/MyDrive/Uni/PDS/FWF\r\n",
        "\r\n",
        "path = Path(r'/content/drive/MyDrive/Uni/PDS/FWF')\r\n",
        "data_path = Path(r'/content/drive/MyDrive/Uni/PDS/FWF/data')\r\n",
        "data_path.ls()"
      ],
      "execution_count": 2,
      "outputs": [
        {
          "output_type": "stream",
          "text": [
            "Drive already mounted at /content/drive; to attempt to forcibly remount, call drive.mount(\"/content/drive\", force_remount=True).\n",
            "/content/drive/MyDrive/Uni/PDS/FWF\n"
          ],
          "name": "stdout"
        },
        {
          "output_type": "execute_result",
          "data": {
            "text/plain": [
              "(#240) [Path('/content/drive/MyDrive/Uni/PDS/FWF/data/AF'),Path('/content/drive/MyDrive/Uni/PDS/FWF/data/AL'),Path('/content/drive/MyDrive/Uni/PDS/FWF/data/DZ'),Path('/content/drive/MyDrive/Uni/PDS/FWF/data/AS'),Path('/content/drive/MyDrive/Uni/PDS/FWF/data/AD'),Path('/content/drive/MyDrive/Uni/PDS/FWF/data/AO'),Path('/content/drive/MyDrive/Uni/PDS/FWF/data/AI'),Path('/content/drive/MyDrive/Uni/PDS/FWF/data/AQ'),Path('/content/drive/MyDrive/Uni/PDS/FWF/data/AG'),Path('/content/drive/MyDrive/Uni/PDS/FWF/data/AR')...]"
            ]
          },
          "metadata": {
            "tags": []
          },
          "execution_count": 2
        }
      ]
    },
    {
      "cell_type": "code",
      "metadata": {
        "id": "Nr0wmgbqnWFV"
      },
      "source": [
        "#load Masterdata\r\n",
        "df_countries = pd.read_csv('/content/drive/MyDrive/Uni/PDS/FWF/countries.CSV')\r\n",
        "\r\n",
        "\r\n",
        "dict_countrynames = df_countries.set_index('Code').to_dict()['Country']\r\n",
        "list_countrycodes= df_countries['Code'].tolist()\r\n"
      ],
      "execution_count": 3,
      "outputs": []
    },
    {
      "cell_type": "code",
      "metadata": {
        "id": "eDTDbSWvtWvX"
      },
      "source": [
        "def getPreText(confidence):\r\n",
        "  #return the right preffix text based on the confidence\r\n",
        "  pretext = \"\"\r\n",
        "  if confidence >= 0.9:\r\n",
        "    pretext = \"This is the flag of \"\r\n",
        "  elif confidence >= 0.8:\r\n",
        "    pretext = \"I am pretty sure, that this is the flag of \"\r\n",
        "  elif confidence >= 0.7:\r\n",
        "    pretext = \"This should be the flag of \"\r\n",
        "  elif confidence >= 0.6:\r\n",
        "    pretext = \"This might be the flag of \"\r\n",
        "  elif confidence < 0.4:\r\n",
        "    pretext = \"I have to guess - eventually the flag of \"\r\n",
        "  return pretext\r\n",
        "\r\n",
        "#######################################################################################\r\n",
        "\r\n",
        "def getAfterText(confidence):\r\n",
        "  #return right suffix\r\n",
        "  c_percentage = \"{} %\".format(round(confidence * 100,1))\r\n",
        "  aftertext = \". - I can say this with a confidence of \" + c_percentage\r\n",
        "  return aftertext\r\n",
        "\r\n",
        "#######################################################################################\r\n",
        "\r\n",
        "def on_click_classify(change):\r\n",
        "  #get image\r\n",
        "  img = PILImage.create(btn_upload.data[-1])\r\n",
        "  out_pl.clear_output()\r\n",
        "  with out_pl:display(img.to_thumb(256,256))\r\n",
        "\r\n",
        "  #make prediction and retrieve information\r\n",
        "  country_id = learn_inf.predict(img)[0]\r\n",
        "  country_tensor_index = learn_inf.predict(img)[1].item()\r\n",
        "  confidence = learn_inf.predict(img)[2].numpy()[country_tensor_index]\r\n",
        "\r\n",
        "  example_pl.clear_output()\r\n",
        "  with example_pl:display(get_example_img(country_id).to_thumb(256,256),)\r\n",
        "\r\n",
        "  #read full country name \r\n",
        "  country_name = dict_countrynames[country_id]\r\n",
        "\r\n",
        "  #get fitting strings\r\n",
        "  if confidence > 0:\r\n",
        "    pretext= getPreText(confidence)\r\n",
        "    aftertext = getAfterText(confidence)\r\n",
        "  else:\r\n",
        "    pretext= \"No prediction possible\"\r\n",
        "    aftertext = \"\"\r\n",
        "  \r\n",
        "  lbl_pred.value = pretext + country_name + aftertext\r\n",
        "\r\n",
        "#######################################################################################\r\n",
        "def on_click_show(change):\r\n",
        "  #get image\r\n",
        "  lbl_upload2.value = \"You uploaded the following image: \"\r\n",
        "  img = PILImage.create(btn_upload.data[-1])\r\n",
        "  out_pl.clear_output()\r\n",
        "  with out_pl:display(img.to_thumb(256,256))\r\n",
        "#######################################################################################\r\n",
        "\r\n",
        "def search_images_ddg(key,max_n=1):\r\n",
        "    \"\"\"Search for 'key' with DuckDuckGo and return a unique urls of 'max_n' images\r\n",
        "    (Adopted from https://github.com/deepanprabhu/duckduckgo-images-api and \r\n",
        "    https://github.com/fastai/fastbook/blob/master/utils.py)\r\n",
        "    \"\"\"\r\n",
        "    url        = 'https://duckduckgo.com/'\r\n",
        "    params     = {'q':key}\r\n",
        "    res        = requests.post(url,data=params)\r\n",
        "    searchObj  = re.search(r'vqd=([\\d-]+)\\&',res.text)\r\n",
        "    if not searchObj: print('Token Parsing Failed !'); return\r\n",
        "    requestUrl = url + 'i.js'\r\n",
        "    headers    = {'User-Agent': 'Mozilla/5.0 (X11; Ubuntu; Linux x86_64; rv:71.0) Gecko/20100101 Firefox/71.0',\r\n",
        "                 'referer': 'https://duckduckgo.com/'}\r\n",
        "    params     = (('l','us-en'),('o','json'),('q',key),('vqd',searchObj.group(1)),('f',',,,'),('p','1'),('v7exp','a'))\r\n",
        "    urls       = []\r\n",
        "    while True:\r\n",
        "        try:\r\n",
        "            res  = requests.get(requestUrl,headers=headers,params=params)\r\n",
        "            data = json.loads(res.text)\r\n",
        "            for obj in data['results']:\r\n",
        "                urls.append(obj['image'])\r\n",
        "                max_n = max_n - 1\r\n",
        "                if max_n < 1: return L(set(urls))     # dedupe\r\n",
        "            if 'next' not in data: return L(set(urls))\r\n",
        "            requestUrl = url + data['next']\r\n",
        "        except:\r\n",
        "            pass\r\n",
        "\r\n",
        "#######################################################################################\r\n",
        "\r\n",
        "def get_example_img(country_id):\r\n",
        "  country_name = dict_countrynames[country_id]\r\n",
        "  results = search_images_ddg(f'flag {country_name} wikipedia')\r\n",
        "  response = requests.get(results[0])\r\n",
        "  img = Image.open(BytesIO(response.content))\r\n",
        "  return img"
      ],
      "execution_count": 49,
      "outputs": []
    },
    {
      "cell_type": "markdown",
      "metadata": {
        "id": "6Ku88wBu6pVh"
      },
      "source": [
        ""
      ]
    },
    {
      "cell_type": "code",
      "metadata": {
        "id": "tgW7mX7NmmwO"
      },
      "source": [
        "#load learner\r\n",
        "learn_inf = load_learner(path/'export.pkl')\r\n",
        "\r\n",
        "\r\n",
        "#create Labels\r\n",
        "lbl_upload1 = widgets.Label('Upload the flag you want to learn about')\r\n",
        "lbl_upload2 = widgets.Label()\r\n",
        "lbl_pred = widgets.Label()\r\n",
        "\r\n",
        "\r\n",
        "#create upload button\r\n",
        "btn_upload = widgets.FileUpload()\r\n",
        "btn_upload\r\n",
        "\r\n",
        "#create Button for Classify\r\n",
        "btn_run = widgets.Button(description='Classify')\r\n",
        "btn_run.on_click(on_click_classify)\r\n",
        "\r\n",
        "btn_show = widgets.Button(description='Show Upload')\r\n",
        "btn_show.on_click(on_click_show)\r\n",
        "\r\n",
        "#output upload\r\n",
        "out_pl = widgets.Output()\r\n",
        "out_pl.clear_output()\r\n",
        "\r\n",
        "\r\n",
        "\r\n",
        "#output example image\r\n",
        "example_pl = widgets.Output()\r\n",
        "example_pl.clear_output()\r\n",
        "\r\n",
        "#collect widgets\r\n",
        "upload_widgets = VBox([lbl_upload1,HBox([btn_upload,btn_show,btn_run]),lbl_upload2,out_pl])\r\n",
        "result_widgets = VBox([out_pl, lbl_pred, example_pl])"
      ],
      "execution_count": 56,
      "outputs": []
    },
    {
      "cell_type": "code",
      "metadata": {
        "id": "ZdiMVb9ayPun"
      },
      "source": [
        ""
      ],
      "execution_count": 53,
      "outputs": []
    },
    {
      "cell_type": "code",
      "metadata": {
        "colab": {
          "base_uri": "https://localhost:8080/",
          "height": 421,
          "referenced_widgets": [
            "eccf2c87308b4fc28edc0353d80d94ef",
            "7b3b473b124c4d8cb9d11229206ded1d",
            "d59ace3879174a9c9249c31cb1c706d3",
            "8538685288734c04afe4ebefc85b933e",
            "df9ade1d348a4267b6320bece8f43807",
            "6f9fb42af70f471689352513597f8473",
            "dff2b9d8fa7c4ea2aeaaadff8cde8e9d",
            "e3f6a78d049146c3af21feeabe405b03",
            "022cdcf6301a4eea8747d1d436510cac",
            "c05186a073944fa3b30c076693a47989",
            "ae58bee33f3849e89c61781e58bee64a",
            "f85edb497c07401f991c9282af86f3f4",
            "214cc6eea1da4a278d3a43b52c920897",
            "1bcdedf8374048b797fa8c115fbcbfd0",
            "578373116d6c48efa531cb548f645871",
            "1884a17d19984315a6c4a7d35c427f53",
            "7030702c188f48c8a065a25e8bf9c83b",
            "2cc527f6537e40cfac1745c9bd780c49",
            "e96760422a484befbb0e4f71780d5a05",
            "7c12ce07d82d4c2b816bfaaf51ed297e",
            "4a3b80e89a0245518a63674dcb34f097",
            "097a560caf464d3d895c3bf0712f1185",
            "412048a6e9a54bfbb18ccc2026dc8ab8",
            "6ec1c9eb12cd41b2b48c9aebd5ee01f9",
            "b475552adc1346c7968f1956dd20cfde",
            "661c371dacce4f7994000bc1101408a3"
          ]
        },
        "id": "s0zMlVY91wDU",
        "outputId": "3472f1e1-e772-4261-8b47-04d08ce1d884"
      },
      "source": [
        "accordion = widgets.Accordion(children=[upload_widgets, widgets.Text()])\r\n",
        "accordion.set_title(0, 'Upload')\r\n",
        "accordion.set_title(1, 'Result')\r\n",
        "accordion"
      ],
      "execution_count": 54,
      "outputs": [
        {
          "output_type": "display_data",
          "data": {
            "application/vnd.jupyter.widget-view+json": {
              "model_id": "eccf2c87308b4fc28edc0353d80d94ef",
              "version_minor": 0,
              "version_major": 2
            },
            "text/plain": [
              "Accordion(children=(VBox(children=(Label(value='Upload the flag you want to learn about'), HBox(children=(File…"
            ]
          },
          "metadata": {
            "tags": []
          }
        },
        {
          "output_type": "display_data",
          "data": {
            "text/html": [
              ""
            ],
            "text/plain": [
              "<IPython.core.display.HTML object>"
            ]
          },
          "metadata": {
            "tags": []
          }
        },
        {
          "output_type": "display_data",
          "data": {
            "text/html": [
              ""
            ],
            "text/plain": [
              "<IPython.core.display.HTML object>"
            ]
          },
          "metadata": {
            "tags": []
          }
        },
        {
          "output_type": "display_data",
          "data": {
            "text/html": [
              ""
            ],
            "text/plain": [
              "<IPython.core.display.HTML object>"
            ]
          },
          "metadata": {
            "tags": []
          }
        }
      ]
    },
    {
      "cell_type": "code",
      "metadata": {
        "id": "uGVPNbO79dbb"
      },
      "source": [
        ""
      ],
      "execution_count": null,
      "outputs": []
    }
  ]
}
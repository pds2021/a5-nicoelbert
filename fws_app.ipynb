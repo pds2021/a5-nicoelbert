{
  "nbformat": 4,
  "nbformat_minor": 0,
  "metadata": {
    "colab": {
      "name": "Untitled10.ipynb",
      "provenance": [],
      "authorship_tag": "ABX9TyMsG8PFTG8Hs02VAk7FYwaj",
      "include_colab_link": true
    },
    "kernelspec": {
      "name": "python3",
      "display_name": "Python 3"
    },
    "widgets": {
      "application/vnd.jupyter.widget-state+json": {
        "96af6119eabd4f6f8b91b0ba289972db": {
          "model_module": "@jupyter-widgets/controls",
          "model_name": "AccordionModel",
          "state": {
            "_view_name": "AccordionView",
            "_dom_classes": [],
            "_titles": {
              "0": "Upload",
              "1": "Result"
            },
            "_model_name": "AccordionModel",
            "_view_module": "@jupyter-widgets/controls",
            "selected_index": 1,
            "_model_module_version": "1.5.0",
            "_view_count": null,
            "_view_module_version": "1.5.0",
            "box_style": "",
            "layout": "IPY_MODEL_f45590f9c11148749a156f960917e2b7",
            "_model_module": "@jupyter-widgets/controls",
            "children": [
              "IPY_MODEL_55e5a647d91b460b9be83e3739d28295",
              "IPY_MODEL_5c9de520ea0c48bb8707f49e3d4f4501"
            ]
          }
        },
        "f45590f9c11148749a156f960917e2b7": {
          "model_module": "@jupyter-widgets/base",
          "model_name": "LayoutModel",
          "state": {
            "_view_name": "LayoutView",
            "grid_template_rows": null,
            "right": null,
            "justify_content": null,
            "_view_module": "@jupyter-widgets/base",
            "overflow": null,
            "_model_module_version": "1.2.0",
            "_view_count": null,
            "flex_flow": null,
            "width": null,
            "min_width": null,
            "border": null,
            "align_items": null,
            "bottom": null,
            "_model_module": "@jupyter-widgets/base",
            "top": null,
            "grid_column": null,
            "overflow_y": null,
            "overflow_x": null,
            "grid_auto_flow": null,
            "grid_area": null,
            "grid_template_columns": null,
            "flex": null,
            "_model_name": "LayoutModel",
            "justify_items": null,
            "grid_row": null,
            "max_height": null,
            "align_content": null,
            "visibility": null,
            "align_self": null,
            "height": null,
            "min_height": null,
            "padding": null,
            "grid_auto_rows": null,
            "grid_gap": null,
            "max_width": null,
            "order": null,
            "_view_module_version": "1.2.0",
            "grid_template_areas": null,
            "object_position": null,
            "object_fit": null,
            "grid_auto_columns": null,
            "margin": null,
            "display": null,
            "left": null
          }
        },
        "55e5a647d91b460b9be83e3739d28295": {
          "model_module": "@jupyter-widgets/controls",
          "model_name": "VBoxModel",
          "state": {
            "_view_name": "VBoxView",
            "_dom_classes": [],
            "_model_name": "VBoxModel",
            "_view_module": "@jupyter-widgets/controls",
            "_model_module_version": "1.5.0",
            "_view_count": null,
            "_view_module_version": "1.5.0",
            "box_style": "",
            "layout": "IPY_MODEL_866b07d2c78741309f5a4af138b7d145",
            "_model_module": "@jupyter-widgets/controls",
            "children": [
              "IPY_MODEL_657e773bd9dc409c900952c7f392cd53",
              "IPY_MODEL_f2f07f8848a447868afb41bc7959eef6",
              "IPY_MODEL_9508bbc93c184f1e820de50c644aec28",
              "IPY_MODEL_3013edc3d0d1425b94e5fe92682816b1"
            ]
          }
        },
        "5c9de520ea0c48bb8707f49e3d4f4501": {
          "model_module": "@jupyter-widgets/controls",
          "model_name": "VBoxModel",
          "state": {
            "_view_name": "VBoxView",
            "_dom_classes": [],
            "_model_name": "VBoxModel",
            "_view_module": "@jupyter-widgets/controls",
            "_model_module_version": "1.5.0",
            "_view_count": null,
            "_view_module_version": "1.5.0",
            "box_style": "",
            "layout": "IPY_MODEL_02cc8a94193a457b95cbbfc9850fa0d6",
            "_model_module": "@jupyter-widgets/controls",
            "children": [
              "IPY_MODEL_f422c94937804f6e814f815c4d900572",
              "IPY_MODEL_3013edc3d0d1425b94e5fe92682816b1",
              "IPY_MODEL_b11990248f9840919e2e9acf4091915b",
              "IPY_MODEL_6c48dcc413ed419ea8fce98ee0db72f2",
              "IPY_MODEL_b1b936074afd4c41afc816f23e9f705d",
              "IPY_MODEL_699f7c1f5e0b4a31b594e3a61e30b319",
              "IPY_MODEL_31e002a9e63645358ae9843eaadddc8b"
            ]
          }
        },
        "866b07d2c78741309f5a4af138b7d145": {
          "model_module": "@jupyter-widgets/base",
          "model_name": "LayoutModel",
          "state": {
            "_view_name": "LayoutView",
            "grid_template_rows": null,
            "right": null,
            "justify_content": null,
            "_view_module": "@jupyter-widgets/base",
            "overflow": null,
            "_model_module_version": "1.2.0",
            "_view_count": null,
            "flex_flow": null,
            "width": null,
            "min_width": null,
            "border": null,
            "align_items": null,
            "bottom": null,
            "_model_module": "@jupyter-widgets/base",
            "top": null,
            "grid_column": null,
            "overflow_y": null,
            "overflow_x": null,
            "grid_auto_flow": null,
            "grid_area": null,
            "grid_template_columns": null,
            "flex": null,
            "_model_name": "LayoutModel",
            "justify_items": null,
            "grid_row": null,
            "max_height": null,
            "align_content": null,
            "visibility": null,
            "align_self": null,
            "height": null,
            "min_height": null,
            "padding": null,
            "grid_auto_rows": null,
            "grid_gap": null,
            "max_width": null,
            "order": null,
            "_view_module_version": "1.2.0",
            "grid_template_areas": null,
            "object_position": null,
            "object_fit": null,
            "grid_auto_columns": null,
            "margin": null,
            "display": null,
            "left": null
          }
        },
        "657e773bd9dc409c900952c7f392cd53": {
          "model_module": "@jupyter-widgets/controls",
          "model_name": "LabelModel",
          "state": {
            "_view_name": "LabelView",
            "style": "IPY_MODEL_d250d807e5d94190a2add3c39a8e726a",
            "_dom_classes": [],
            "description": "",
            "_model_name": "LabelModel",
            "placeholder": "​",
            "_view_module": "@jupyter-widgets/controls",
            "_model_module_version": "1.5.0",
            "value": "Upload the flag you want to learn about",
            "_view_count": null,
            "_view_module_version": "1.5.0",
            "description_tooltip": null,
            "_model_module": "@jupyter-widgets/controls",
            "layout": "IPY_MODEL_90059f5a5e73488db8c64eb7ff5c8566"
          }
        },
        "f2f07f8848a447868afb41bc7959eef6": {
          "model_module": "@jupyter-widgets/controls",
          "model_name": "HBoxModel",
          "state": {
            "_view_name": "HBoxView",
            "_dom_classes": [],
            "_model_name": "HBoxModel",
            "_view_module": "@jupyter-widgets/controls",
            "_model_module_version": "1.5.0",
            "_view_count": null,
            "_view_module_version": "1.5.0",
            "box_style": "",
            "layout": "IPY_MODEL_7e52724170d14ab5871918df2e27f8f9",
            "_model_module": "@jupyter-widgets/controls",
            "children": [
              "IPY_MODEL_c840272cc58a4b8998512da8c943e633",
              "IPY_MODEL_7410bf3dca67462ca0e1abec71ec4520",
              "IPY_MODEL_94916c87b42645179c01920cf2522691"
            ]
          }
        },
        "9508bbc93c184f1e820de50c644aec28": {
          "model_module": "@jupyter-widgets/controls",
          "model_name": "LabelModel",
          "state": {
            "_view_name": "LabelView",
            "style": "IPY_MODEL_04f6038bc0bf4a6c993198a3da8c258c",
            "_dom_classes": [],
            "description": "",
            "_model_name": "LabelModel",
            "placeholder": "​",
            "_view_module": "@jupyter-widgets/controls",
            "_model_module_version": "1.5.0",
            "value": "You uploaded the following image: ",
            "_view_count": null,
            "_view_module_version": "1.5.0",
            "description_tooltip": null,
            "_model_module": "@jupyter-widgets/controls",
            "layout": "IPY_MODEL_7f8ace20f0f040849656715736517710"
          }
        },
        "3013edc3d0d1425b94e5fe92682816b1": {
          "model_module": "@jupyter-widgets/output",
          "model_name": "OutputModel",
          "state": {
            "_view_name": "OutputView",
            "msg_id": "",
            "_dom_classes": [],
            "_model_name": "OutputModel",
            "outputs": [
              {
                "output_type": "display_data",
                "metadata": {
                  "tags": []
                },
                "image/png": "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\n",
                "text/plain": "<PIL.Image.Image image mode=RGB size=256x125 at 0x7F96DBAF8A20>"
              }
            ],
            "_view_module": "@jupyter-widgets/output",
            "_model_module_version": "1.0.0",
            "_view_count": null,
            "_view_module_version": "1.0.0",
            "layout": "IPY_MODEL_ea1cab64f6804ab68ee5f643b2b523eb",
            "_model_module": "@jupyter-widgets/output"
          }
        },
        "02cc8a94193a457b95cbbfc9850fa0d6": {
          "model_module": "@jupyter-widgets/base",
          "model_name": "LayoutModel",
          "state": {
            "_view_name": "LayoutView",
            "grid_template_rows": null,
            "right": null,
            "justify_content": null,
            "_view_module": "@jupyter-widgets/base",
            "overflow": null,
            "_model_module_version": "1.2.0",
            "_view_count": null,
            "flex_flow": null,
            "width": null,
            "min_width": null,
            "border": null,
            "align_items": null,
            "bottom": null,
            "_model_module": "@jupyter-widgets/base",
            "top": null,
            "grid_column": null,
            "overflow_y": null,
            "overflow_x": null,
            "grid_auto_flow": null,
            "grid_area": null,
            "grid_template_columns": null,
            "flex": null,
            "_model_name": "LayoutModel",
            "justify_items": null,
            "grid_row": null,
            "max_height": null,
            "align_content": null,
            "visibility": null,
            "align_self": null,
            "height": null,
            "min_height": null,
            "padding": null,
            "grid_auto_rows": null,
            "grid_gap": null,
            "max_width": null,
            "order": null,
            "_view_module_version": "1.2.0",
            "grid_template_areas": null,
            "object_position": null,
            "object_fit": null,
            "grid_auto_columns": null,
            "margin": null,
            "display": null,
            "left": null
          }
        },
        "f422c94937804f6e814f815c4d900572": {
          "model_module": "@jupyter-widgets/controls",
          "model_name": "VBoxModel",
          "state": {
            "_view_name": "VBoxView",
            "_dom_classes": [],
            "_model_name": "VBoxModel",
            "_view_module": "@jupyter-widgets/controls",
            "_model_module_version": "1.5.0",
            "_view_count": null,
            "_view_module_version": "1.5.0",
            "box_style": "",
            "layout": "IPY_MODEL_a7080c2056c14e74964a555b00bfb6e3",
            "_model_module": "@jupyter-widgets/controls",
            "children": [
              "IPY_MODEL_0534d9a485ed44998220019356873cc9"
            ]
          }
        },
        "b11990248f9840919e2e9acf4091915b": {
          "model_module": "@jupyter-widgets/controls",
          "model_name": "LabelModel",
          "state": {
            "_view_name": "LabelView",
            "style": "IPY_MODEL_176a5ce30d924a6383126330660db7bf",
            "_dom_classes": [],
            "description": "",
            "_model_name": "LabelModel",
            "placeholder": "​",
            "_view_module": "@jupyter-widgets/controls",
            "_model_module_version": "1.5.0",
            "value": " ",
            "_view_count": null,
            "_view_module_version": "1.5.0",
            "description_tooltip": null,
            "_model_module": "@jupyter-widgets/controls",
            "layout": "IPY_MODEL_f7ba14e8394e45d0aec2ea03c5795351"
          }
        },
        "6c48dcc413ed419ea8fce98ee0db72f2": {
          "model_module": "@jupyter-widgets/controls",
          "model_name": "LabelModel",
          "state": {
            "_view_name": "LabelView",
            "style": "IPY_MODEL_d7463650b8184621b014ca02d80f05ea",
            "_dom_classes": [],
            "description": "",
            "_model_name": "LabelModel",
            "placeholder": "​",
            "_view_module": "@jupyter-widgets/controls",
            "_model_module_version": "1.5.0",
            "value": "I have to guess - eventually the flag of Italy",
            "_view_count": null,
            "_view_module_version": "1.5.0",
            "description_tooltip": null,
            "_model_module": "@jupyter-widgets/controls",
            "layout": "IPY_MODEL_f5b60cb2a8eb48a3a636ab5b14b17d0c"
          }
        },
        "b1b936074afd4c41afc816f23e9f705d": {
          "model_module": "@jupyter-widgets/controls",
          "model_name": "HBoxModel",
          "state": {
            "_view_name": "HBoxView",
            "_dom_classes": [],
            "_model_name": "HBoxModel",
            "_view_module": "@jupyter-widgets/controls",
            "_model_module_version": "1.5.0",
            "_view_count": null,
            "_view_module_version": "1.5.0",
            "box_style": "",
            "layout": "IPY_MODEL_9008e5a0d673439b8277bd3bd4cc43f7",
            "_model_module": "@jupyter-widgets/controls",
            "children": [
              "IPY_MODEL_d1e60a4c1e32486a86c61a0a96977d6e",
              "IPY_MODEL_8872356b5ea74ba3a745ff054de96bf8"
            ]
          }
        },
        "699f7c1f5e0b4a31b594e3a61e30b319": {
          "model_module": "@jupyter-widgets/controls",
          "model_name": "VBoxModel",
          "state": {
            "_view_name": "VBoxView",
            "_dom_classes": [],
            "_model_name": "VBoxModel",
            "_view_module": "@jupyter-widgets/controls",
            "_model_module_version": "1.5.0",
            "_view_count": null,
            "_view_module_version": "1.5.0",
            "box_style": "",
            "layout": "IPY_MODEL_87307d136d84464ea98584510b5eea54",
            "_model_module": "@jupyter-widgets/controls",
            "children": [
              "IPY_MODEL_b11990248f9840919e2e9acf4091915b",
              "IPY_MODEL_fab68a89cfe74ab59081bf22866e424d"
            ]
          }
        },
        "31e002a9e63645358ae9843eaadddc8b": {
          "model_module": "@jupyter-widgets/output",
          "model_name": "OutputModel",
          "state": {
            "_view_name": "OutputView",
            "msg_id": "",
            "_dom_classes": [],
            "_model_name": "OutputModel",
            "outputs": [
              {
                "output_type": "display_data",
                "metadata": {
                  "tags": []
                },
                "image/png": "iVBORw0KGgoAAAANSUhEUgAAAQAAAACrAgMAAAD0sKpsAAAADFBMVEUAkkb////OKzcDAwOaaVWQAAAAS0lEQVR4nO3MQQ0AQAjEQEwgjRN5KjGwBkim/05Vqif0fir+AAAAAAAAAAAAAAAAAAAAAAAAAAAAAAAAAAAAAAAAAAAAAAAAwHlgAWIoCH49hRtoAAAAAElFTkSuQmCC\n",
                "text/plain": "<PIL.Image.Image image mode=P size=256x171 at 0x7F96DB8EF908>"
              }
            ],
            "_view_module": "@jupyter-widgets/output",
            "_model_module_version": "1.0.0",
            "_view_count": null,
            "_view_module_version": "1.0.0",
            "layout": "IPY_MODEL_faf9619a9c6943cf91771e34fc70424a",
            "_model_module": "@jupyter-widgets/output"
          }
        },
        "d250d807e5d94190a2add3c39a8e726a": {
          "model_module": "@jupyter-widgets/controls",
          "model_name": "DescriptionStyleModel",
          "state": {
            "_view_name": "StyleView",
            "_model_name": "DescriptionStyleModel",
            "description_width": "",
            "_view_module": "@jupyter-widgets/base",
            "_model_module_version": "1.5.0",
            "_view_count": null,
            "_view_module_version": "1.2.0",
            "_model_module": "@jupyter-widgets/controls"
          }
        },
        "90059f5a5e73488db8c64eb7ff5c8566": {
          "model_module": "@jupyter-widgets/base",
          "model_name": "LayoutModel",
          "state": {
            "_view_name": "LayoutView",
            "grid_template_rows": null,
            "right": null,
            "justify_content": null,
            "_view_module": "@jupyter-widgets/base",
            "overflow": null,
            "_model_module_version": "1.2.0",
            "_view_count": null,
            "flex_flow": null,
            "width": null,
            "min_width": null,
            "border": null,
            "align_items": null,
            "bottom": null,
            "_model_module": "@jupyter-widgets/base",
            "top": null,
            "grid_column": null,
            "overflow_y": null,
            "overflow_x": null,
            "grid_auto_flow": null,
            "grid_area": null,
            "grid_template_columns": null,
            "flex": null,
            "_model_name": "LayoutModel",
            "justify_items": null,
            "grid_row": null,
            "max_height": null,
            "align_content": null,
            "visibility": null,
            "align_self": null,
            "height": null,
            "min_height": null,
            "padding": null,
            "grid_auto_rows": null,
            "grid_gap": null,
            "max_width": null,
            "order": null,
            "_view_module_version": "1.2.0",
            "grid_template_areas": null,
            "object_position": null,
            "object_fit": null,
            "grid_auto_columns": null,
            "margin": null,
            "display": null,
            "left": null
          }
        },
        "7e52724170d14ab5871918df2e27f8f9": {
          "model_module": "@jupyter-widgets/base",
          "model_name": "LayoutModel",
          "state": {
            "_view_name": "LayoutView",
            "grid_template_rows": null,
            "right": null,
            "justify_content": null,
            "_view_module": "@jupyter-widgets/base",
            "overflow": null,
            "_model_module_version": "1.2.0",
            "_view_count": null,
            "flex_flow": null,
            "width": null,
            "min_width": null,
            "border": null,
            "align_items": null,
            "bottom": null,
            "_model_module": "@jupyter-widgets/base",
            "top": null,
            "grid_column": null,
            "overflow_y": null,
            "overflow_x": null,
            "grid_auto_flow": null,
            "grid_area": null,
            "grid_template_columns": null,
            "flex": null,
            "_model_name": "LayoutModel",
            "justify_items": null,
            "grid_row": null,
            "max_height": null,
            "align_content": null,
            "visibility": null,
            "align_self": null,
            "height": null,
            "min_height": null,
            "padding": null,
            "grid_auto_rows": null,
            "grid_gap": null,
            "max_width": null,
            "order": null,
            "_view_module_version": "1.2.0",
            "grid_template_areas": null,
            "object_position": null,
            "object_fit": null,
            "grid_auto_columns": null,
            "margin": null,
            "display": null,
            "left": null
          }
        },
        "c840272cc58a4b8998512da8c943e633": {
          "model_module": "@jupyter-widgets/controls",
          "model_name": "FileUploadModel",
          "state": {
            "_view_name": "FileUploadView",
            "_counter": 3,
            "style": "IPY_MODEL_4056a8ba2c8441ea9a4ecba96e4755d3",
            "_dom_classes": [],
            "description": "Upload",
            "multiple": false,
            "_model_name": "FileUploadModel",
            "data": [
              null
            ],
            "button_style": "",
            "_view_module": "@jupyter-widgets/controls",
            "_model_module_version": "1.5.0",
            "accept": "",
            "_view_count": null,
            "disabled": false,
            "_view_module_version": "1.5.0",
            "error": "",
            "description_tooltip": null,
            "metadata": [
              {
                "name": "af3c.png",
                "type": "image/png",
                "size": 304319,
                "lastModified": 1609424242687
              }
            ],
            "_model_module": "@jupyter-widgets/controls",
            "layout": "IPY_MODEL_5dfa530fd29a486c8a45eb611d83b493",
            "icon": "upload"
          }
        },
        "7410bf3dca67462ca0e1abec71ec4520": {
          "model_module": "@jupyter-widgets/controls",
          "model_name": "ButtonModel",
          "state": {
            "_view_name": "ButtonView",
            "style": "IPY_MODEL_ffb4f6328b7147d09ef1869896a52e10",
            "_dom_classes": [],
            "description": "Show Upload",
            "_model_name": "ButtonModel",
            "button_style": "",
            "_view_module": "@jupyter-widgets/controls",
            "_model_module_version": "1.5.0",
            "tooltip": "",
            "_view_count": null,
            "disabled": false,
            "_view_module_version": "1.5.0",
            "layout": "IPY_MODEL_f7daa01980aa4b6baf394b4f9e89091b",
            "_model_module": "@jupyter-widgets/controls",
            "icon": ""
          }
        },
        "94916c87b42645179c01920cf2522691": {
          "model_module": "@jupyter-widgets/controls",
          "model_name": "ButtonModel",
          "state": {
            "_view_name": "ButtonView",
            "style": "IPY_MODEL_393235b86b164b2e85df0a66d3625f02",
            "_dom_classes": [],
            "description": "Classify",
            "_model_name": "ButtonModel",
            "button_style": "",
            "_view_module": "@jupyter-widgets/controls",
            "_model_module_version": "1.5.0",
            "tooltip": "",
            "_view_count": null,
            "disabled": false,
            "_view_module_version": "1.5.0",
            "layout": "IPY_MODEL_b18fb97da1374327b5178eef8811bc83",
            "_model_module": "@jupyter-widgets/controls",
            "icon": ""
          }
        },
        "04f6038bc0bf4a6c993198a3da8c258c": {
          "model_module": "@jupyter-widgets/controls",
          "model_name": "DescriptionStyleModel",
          "state": {
            "_view_name": "StyleView",
            "_model_name": "DescriptionStyleModel",
            "description_width": "",
            "_view_module": "@jupyter-widgets/base",
            "_model_module_version": "1.5.0",
            "_view_count": null,
            "_view_module_version": "1.2.0",
            "_model_module": "@jupyter-widgets/controls"
          }
        },
        "7f8ace20f0f040849656715736517710": {
          "model_module": "@jupyter-widgets/base",
          "model_name": "LayoutModel",
          "state": {
            "_view_name": "LayoutView",
            "grid_template_rows": null,
            "right": null,
            "justify_content": null,
            "_view_module": "@jupyter-widgets/base",
            "overflow": null,
            "_model_module_version": "1.2.0",
            "_view_count": null,
            "flex_flow": null,
            "width": null,
            "min_width": null,
            "border": null,
            "align_items": null,
            "bottom": null,
            "_model_module": "@jupyter-widgets/base",
            "top": null,
            "grid_column": null,
            "overflow_y": null,
            "overflow_x": null,
            "grid_auto_flow": null,
            "grid_area": null,
            "grid_template_columns": null,
            "flex": null,
            "_model_name": "LayoutModel",
            "justify_items": null,
            "grid_row": null,
            "max_height": null,
            "align_content": null,
            "visibility": null,
            "align_self": null,
            "height": null,
            "min_height": null,
            "padding": null,
            "grid_auto_rows": null,
            "grid_gap": null,
            "max_width": null,
            "order": null,
            "_view_module_version": "1.2.0",
            "grid_template_areas": null,
            "object_position": null,
            "object_fit": null,
            "grid_auto_columns": null,
            "margin": null,
            "display": null,
            "left": null
          }
        },
        "a7080c2056c14e74964a555b00bfb6e3": {
          "model_module": "@jupyter-widgets/base",
          "model_name": "LayoutModel",
          "state": {
            "_view_name": "LayoutView",
            "grid_template_rows": null,
            "right": null,
            "justify_content": null,
            "_view_module": "@jupyter-widgets/base",
            "overflow": null,
            "_model_module_version": "1.2.0",
            "_view_count": null,
            "flex_flow": null,
            "width": null,
            "min_width": null,
            "border": null,
            "align_items": null,
            "bottom": null,
            "_model_module": "@jupyter-widgets/base",
            "top": null,
            "grid_column": null,
            "overflow_y": null,
            "overflow_x": null,
            "grid_auto_flow": null,
            "grid_area": null,
            "grid_template_columns": null,
            "flex": null,
            "_model_name": "LayoutModel",
            "justify_items": null,
            "grid_row": null,
            "max_height": null,
            "align_content": null,
            "visibility": null,
            "align_self": null,
            "height": null,
            "min_height": null,
            "padding": null,
            "grid_auto_rows": null,
            "grid_gap": null,
            "max_width": null,
            "order": null,
            "_view_module_version": "1.2.0",
            "grid_template_areas": null,
            "object_position": null,
            "object_fit": null,
            "grid_auto_columns": null,
            "margin": null,
            "display": null,
            "left": null
          }
        },
        "0534d9a485ed44998220019356873cc9": {
          "model_module": "@jupyter-widgets/controls",
          "model_name": "LabelModel",
          "state": {
            "_view_name": "LabelView",
            "style": "IPY_MODEL_116733a9c0c0449588e7703428f58152",
            "_dom_classes": [],
            "description": "",
            "_model_name": "LabelModel",
            "placeholder": "​",
            "_view_module": "@jupyter-widgets/controls",
            "_model_module_version": "1.5.0",
            "value": "The image you uploaded: ",
            "_view_count": null,
            "_view_module_version": "1.5.0",
            "description_tooltip": null,
            "_model_module": "@jupyter-widgets/controls",
            "layout": "IPY_MODEL_3f16cfed1f55445891f1617aaa04d482"
          }
        },
        "176a5ce30d924a6383126330660db7bf": {
          "model_module": "@jupyter-widgets/controls",
          "model_name": "DescriptionStyleModel",
          "state": {
            "_view_name": "StyleView",
            "_model_name": "DescriptionStyleModel",
            "description_width": "",
            "_view_module": "@jupyter-widgets/base",
            "_model_module_version": "1.5.0",
            "_view_count": null,
            "_view_module_version": "1.2.0",
            "_model_module": "@jupyter-widgets/controls"
          }
        },
        "f7ba14e8394e45d0aec2ea03c5795351": {
          "model_module": "@jupyter-widgets/base",
          "model_name": "LayoutModel",
          "state": {
            "_view_name": "LayoutView",
            "grid_template_rows": null,
            "right": null,
            "justify_content": null,
            "_view_module": "@jupyter-widgets/base",
            "overflow": null,
            "_model_module_version": "1.2.0",
            "_view_count": null,
            "flex_flow": null,
            "width": null,
            "min_width": null,
            "border": null,
            "align_items": null,
            "bottom": null,
            "_model_module": "@jupyter-widgets/base",
            "top": null,
            "grid_column": null,
            "overflow_y": null,
            "overflow_x": null,
            "grid_auto_flow": null,
            "grid_area": null,
            "grid_template_columns": null,
            "flex": null,
            "_model_name": "LayoutModel",
            "justify_items": null,
            "grid_row": null,
            "max_height": null,
            "align_content": null,
            "visibility": null,
            "align_self": null,
            "height": null,
            "min_height": null,
            "padding": null,
            "grid_auto_rows": null,
            "grid_gap": null,
            "max_width": null,
            "order": null,
            "_view_module_version": "1.2.0",
            "grid_template_areas": null,
            "object_position": null,
            "object_fit": null,
            "grid_auto_columns": null,
            "margin": null,
            "display": null,
            "left": null
          }
        },
        "d7463650b8184621b014ca02d80f05ea": {
          "model_module": "@jupyter-widgets/controls",
          "model_name": "DescriptionStyleModel",
          "state": {
            "_view_name": "StyleView",
            "_model_name": "DescriptionStyleModel",
            "description_width": "",
            "_view_module": "@jupyter-widgets/base",
            "_model_module_version": "1.5.0",
            "_view_count": null,
            "_view_module_version": "1.2.0",
            "_model_module": "@jupyter-widgets/controls"
          }
        },
        "f5b60cb2a8eb48a3a636ab5b14b17d0c": {
          "model_module": "@jupyter-widgets/base",
          "model_name": "LayoutModel",
          "state": {
            "_view_name": "LayoutView",
            "grid_template_rows": null,
            "right": null,
            "justify_content": null,
            "_view_module": "@jupyter-widgets/base",
            "overflow": null,
            "_model_module_version": "1.2.0",
            "_view_count": null,
            "flex_flow": null,
            "width": null,
            "min_width": null,
            "border": null,
            "align_items": null,
            "bottom": null,
            "_model_module": "@jupyter-widgets/base",
            "top": null,
            "grid_column": null,
            "overflow_y": null,
            "overflow_x": null,
            "grid_auto_flow": null,
            "grid_area": null,
            "grid_template_columns": null,
            "flex": null,
            "_model_name": "LayoutModel",
            "justify_items": null,
            "grid_row": null,
            "max_height": null,
            "align_content": null,
            "visibility": null,
            "align_self": null,
            "height": null,
            "min_height": null,
            "padding": null,
            "grid_auto_rows": null,
            "grid_gap": null,
            "max_width": null,
            "order": null,
            "_view_module_version": "1.2.0",
            "grid_template_areas": null,
            "object_position": null,
            "object_fit": null,
            "grid_auto_columns": null,
            "margin": null,
            "display": null,
            "left": null
          }
        },
        "9008e5a0d673439b8277bd3bd4cc43f7": {
          "model_module": "@jupyter-widgets/base",
          "model_name": "LayoutModel",
          "state": {
            "_view_name": "LayoutView",
            "grid_template_rows": null,
            "right": null,
            "justify_content": null,
            "_view_module": "@jupyter-widgets/base",
            "overflow": null,
            "_model_module_version": "1.2.0",
            "_view_count": null,
            "flex_flow": null,
            "width": null,
            "min_width": null,
            "border": null,
            "align_items": null,
            "bottom": null,
            "_model_module": "@jupyter-widgets/base",
            "top": null,
            "grid_column": null,
            "overflow_y": null,
            "overflow_x": null,
            "grid_auto_flow": null,
            "grid_area": null,
            "grid_template_columns": null,
            "flex": null,
            "_model_name": "LayoutModel",
            "justify_items": null,
            "grid_row": null,
            "max_height": null,
            "align_content": null,
            "visibility": null,
            "align_self": null,
            "height": null,
            "min_height": null,
            "padding": null,
            "grid_auto_rows": null,
            "grid_gap": null,
            "max_width": null,
            "order": null,
            "_view_module_version": "1.2.0",
            "grid_template_areas": null,
            "object_position": null,
            "object_fit": null,
            "grid_auto_columns": null,
            "margin": null,
            "display": null,
            "left": null
          }
        },
        "d1e60a4c1e32486a86c61a0a96977d6e": {
          "model_module": "@jupyter-widgets/controls",
          "model_name": "IntProgressModel",
          "state": {
            "_view_name": "ProgressView",
            "style": "IPY_MODEL_91b880b283bd49feb929b41a30e9a765",
            "_dom_classes": [],
            "description": "Confidence: ",
            "_model_name": "IntProgressModel",
            "bar_style": "success",
            "max": 100,
            "_view_module": "@jupyter-widgets/controls",
            "_model_module_version": "1.5.0",
            "value": 7,
            "_view_count": null,
            "_view_module_version": "1.5.0",
            "orientation": "horizontal",
            "min": 0,
            "description_tooltip": null,
            "_model_module": "@jupyter-widgets/controls",
            "layout": "IPY_MODEL_343a6cb636ee45bdbd056aabbc068b54"
          }
        },
        "8872356b5ea74ba3a745ff054de96bf8": {
          "model_module": "@jupyter-widgets/controls",
          "model_name": "LabelModel",
          "state": {
            "_view_name": "LabelView",
            "style": "IPY_MODEL_4e2c27d6455c490e8736d7d2b6b27227",
            "_dom_classes": [],
            "description": "",
            "_model_name": "LabelModel",
            "placeholder": "​",
            "_view_module": "@jupyter-widgets/controls",
            "_model_module_version": "1.5.0",
            "value": "7.01 %",
            "_view_count": null,
            "_view_module_version": "1.5.0",
            "description_tooltip": null,
            "_model_module": "@jupyter-widgets/controls",
            "layout": "IPY_MODEL_ac1d1c1430bd48479719e1dc91b993ed"
          }
        },
        "87307d136d84464ea98584510b5eea54": {
          "model_module": "@jupyter-widgets/base",
          "model_name": "LayoutModel",
          "state": {
            "_view_name": "LayoutView",
            "grid_template_rows": null,
            "right": null,
            "justify_content": null,
            "_view_module": "@jupyter-widgets/base",
            "overflow": null,
            "_model_module_version": "1.2.0",
            "_view_count": null,
            "flex_flow": null,
            "width": null,
            "min_width": null,
            "border": null,
            "align_items": null,
            "bottom": null,
            "_model_module": "@jupyter-widgets/base",
            "top": null,
            "grid_column": null,
            "overflow_y": null,
            "overflow_x": null,
            "grid_auto_flow": null,
            "grid_area": null,
            "grid_template_columns": null,
            "flex": null,
            "_model_name": "LayoutModel",
            "justify_items": null,
            "grid_row": null,
            "max_height": null,
            "align_content": null,
            "visibility": null,
            "align_self": null,
            "height": null,
            "min_height": null,
            "padding": null,
            "grid_auto_rows": null,
            "grid_gap": null,
            "max_width": null,
            "order": null,
            "_view_module_version": "1.2.0",
            "grid_template_areas": null,
            "object_position": null,
            "object_fit": null,
            "grid_auto_columns": null,
            "margin": null,
            "display": null,
            "left": null
          }
        },
        "fab68a89cfe74ab59081bf22866e424d": {
          "model_module": "@jupyter-widgets/controls",
          "model_name": "LabelModel",
          "state": {
            "_view_name": "LabelView",
            "style": "IPY_MODEL_29a23dce8f774247b88ec26351ee05b4",
            "_dom_classes": [],
            "description": "",
            "_model_name": "LabelModel",
            "placeholder": "​",
            "_view_module": "@jupyter-widgets/controls",
            "_model_module_version": "1.5.0",
            "value": "The flag should look like this: ",
            "_view_count": null,
            "_view_module_version": "1.5.0",
            "description_tooltip": null,
            "_model_module": "@jupyter-widgets/controls",
            "layout": "IPY_MODEL_fae4ead4361f47ce90e906a0c4aeca5e"
          }
        },
        "4056a8ba2c8441ea9a4ecba96e4755d3": {
          "model_module": "@jupyter-widgets/controls",
          "model_name": "ButtonStyleModel",
          "state": {
            "_view_name": "StyleView",
            "_model_name": "ButtonStyleModel",
            "_view_module": "@jupyter-widgets/base",
            "_model_module_version": "1.5.0",
            "_view_count": null,
            "button_color": null,
            "font_weight": "",
            "_view_module_version": "1.2.0",
            "_model_module": "@jupyter-widgets/controls"
          }
        },
        "5dfa530fd29a486c8a45eb611d83b493": {
          "model_module": "@jupyter-widgets/base",
          "model_name": "LayoutModel",
          "state": {
            "_view_name": "LayoutView",
            "grid_template_rows": null,
            "right": null,
            "justify_content": null,
            "_view_module": "@jupyter-widgets/base",
            "overflow": null,
            "_model_module_version": "1.2.0",
            "_view_count": null,
            "flex_flow": null,
            "width": null,
            "min_width": null,
            "border": null,
            "align_items": null,
            "bottom": null,
            "_model_module": "@jupyter-widgets/base",
            "top": null,
            "grid_column": null,
            "overflow_y": null,
            "overflow_x": null,
            "grid_auto_flow": null,
            "grid_area": null,
            "grid_template_columns": null,
            "flex": null,
            "_model_name": "LayoutModel",
            "justify_items": null,
            "grid_row": null,
            "max_height": null,
            "align_content": null,
            "visibility": null,
            "align_self": null,
            "height": null,
            "min_height": null,
            "padding": null,
            "grid_auto_rows": null,
            "grid_gap": null,
            "max_width": null,
            "order": null,
            "_view_module_version": "1.2.0",
            "grid_template_areas": null,
            "object_position": null,
            "object_fit": null,
            "grid_auto_columns": null,
            "margin": null,
            "display": null,
            "left": null
          }
        },
        "ffb4f6328b7147d09ef1869896a52e10": {
          "model_module": "@jupyter-widgets/controls",
          "model_name": "ButtonStyleModel",
          "state": {
            "_view_name": "StyleView",
            "_model_name": "ButtonStyleModel",
            "_view_module": "@jupyter-widgets/base",
            "_model_module_version": "1.5.0",
            "_view_count": null,
            "button_color": null,
            "font_weight": "",
            "_view_module_version": "1.2.0",
            "_model_module": "@jupyter-widgets/controls"
          }
        },
        "f7daa01980aa4b6baf394b4f9e89091b": {
          "model_module": "@jupyter-widgets/base",
          "model_name": "LayoutModel",
          "state": {
            "_view_name": "LayoutView",
            "grid_template_rows": null,
            "right": null,
            "justify_content": null,
            "_view_module": "@jupyter-widgets/base",
            "overflow": null,
            "_model_module_version": "1.2.0",
            "_view_count": null,
            "flex_flow": null,
            "width": null,
            "min_width": null,
            "border": null,
            "align_items": null,
            "bottom": null,
            "_model_module": "@jupyter-widgets/base",
            "top": null,
            "grid_column": null,
            "overflow_y": null,
            "overflow_x": null,
            "grid_auto_flow": null,
            "grid_area": null,
            "grid_template_columns": null,
            "flex": null,
            "_model_name": "LayoutModel",
            "justify_items": null,
            "grid_row": null,
            "max_height": null,
            "align_content": null,
            "visibility": null,
            "align_self": null,
            "height": null,
            "min_height": null,
            "padding": null,
            "grid_auto_rows": null,
            "grid_gap": null,
            "max_width": null,
            "order": null,
            "_view_module_version": "1.2.0",
            "grid_template_areas": null,
            "object_position": null,
            "object_fit": null,
            "grid_auto_columns": null,
            "margin": null,
            "display": null,
            "left": null
          }
        },
        "393235b86b164b2e85df0a66d3625f02": {
          "model_module": "@jupyter-widgets/controls",
          "model_name": "ButtonStyleModel",
          "state": {
            "_view_name": "StyleView",
            "_model_name": "ButtonStyleModel",
            "_view_module": "@jupyter-widgets/base",
            "_model_module_version": "1.5.0",
            "_view_count": null,
            "button_color": null,
            "font_weight": "",
            "_view_module_version": "1.2.0",
            "_model_module": "@jupyter-widgets/controls"
          }
        },
        "b18fb97da1374327b5178eef8811bc83": {
          "model_module": "@jupyter-widgets/base",
          "model_name": "LayoutModel",
          "state": {
            "_view_name": "LayoutView",
            "grid_template_rows": null,
            "right": null,
            "justify_content": null,
            "_view_module": "@jupyter-widgets/base",
            "overflow": null,
            "_model_module_version": "1.2.0",
            "_view_count": null,
            "flex_flow": null,
            "width": null,
            "min_width": null,
            "border": null,
            "align_items": null,
            "bottom": null,
            "_model_module": "@jupyter-widgets/base",
            "top": null,
            "grid_column": null,
            "overflow_y": null,
            "overflow_x": null,
            "grid_auto_flow": null,
            "grid_area": null,
            "grid_template_columns": null,
            "flex": null,
            "_model_name": "LayoutModel",
            "justify_items": null,
            "grid_row": null,
            "max_height": null,
            "align_content": null,
            "visibility": null,
            "align_self": null,
            "height": null,
            "min_height": null,
            "padding": null,
            "grid_auto_rows": null,
            "grid_gap": null,
            "max_width": null,
            "order": null,
            "_view_module_version": "1.2.0",
            "grid_template_areas": null,
            "object_position": null,
            "object_fit": null,
            "grid_auto_columns": null,
            "margin": null,
            "display": null,
            "left": null
          }
        },
        "116733a9c0c0449588e7703428f58152": {
          "model_module": "@jupyter-widgets/controls",
          "model_name": "DescriptionStyleModel",
          "state": {
            "_view_name": "StyleView",
            "_model_name": "DescriptionStyleModel",
            "description_width": "",
            "_view_module": "@jupyter-widgets/base",
            "_model_module_version": "1.5.0",
            "_view_count": null,
            "_view_module_version": "1.2.0",
            "_model_module": "@jupyter-widgets/controls"
          }
        },
        "3f16cfed1f55445891f1617aaa04d482": {
          "model_module": "@jupyter-widgets/base",
          "model_name": "LayoutModel",
          "state": {
            "_view_name": "LayoutView",
            "grid_template_rows": null,
            "right": null,
            "justify_content": null,
            "_view_module": "@jupyter-widgets/base",
            "overflow": null,
            "_model_module_version": "1.2.0",
            "_view_count": null,
            "flex_flow": null,
            "width": null,
            "min_width": null,
            "border": null,
            "align_items": null,
            "bottom": null,
            "_model_module": "@jupyter-widgets/base",
            "top": null,
            "grid_column": null,
            "overflow_y": null,
            "overflow_x": null,
            "grid_auto_flow": null,
            "grid_area": null,
            "grid_template_columns": null,
            "flex": null,
            "_model_name": "LayoutModel",
            "justify_items": null,
            "grid_row": null,
            "max_height": null,
            "align_content": null,
            "visibility": null,
            "align_self": null,
            "height": null,
            "min_height": null,
            "padding": null,
            "grid_auto_rows": null,
            "grid_gap": null,
            "max_width": null,
            "order": null,
            "_view_module_version": "1.2.0",
            "grid_template_areas": null,
            "object_position": null,
            "object_fit": null,
            "grid_auto_columns": null,
            "margin": null,
            "display": null,
            "left": null
          }
        },
        "91b880b283bd49feb929b41a30e9a765": {
          "model_module": "@jupyter-widgets/controls",
          "model_name": "ProgressStyleModel",
          "state": {
            "_view_name": "StyleView",
            "_model_name": "ProgressStyleModel",
            "description_width": "",
            "_view_module": "@jupyter-widgets/base",
            "_model_module_version": "1.5.0",
            "_view_count": null,
            "_view_module_version": "1.2.0",
            "bar_color": null,
            "_model_module": "@jupyter-widgets/controls"
          }
        },
        "343a6cb636ee45bdbd056aabbc068b54": {
          "model_module": "@jupyter-widgets/base",
          "model_name": "LayoutModel",
          "state": {
            "_view_name": "LayoutView",
            "grid_template_rows": null,
            "right": null,
            "justify_content": null,
            "_view_module": "@jupyter-widgets/base",
            "overflow": null,
            "_model_module_version": "1.2.0",
            "_view_count": null,
            "flex_flow": null,
            "width": null,
            "min_width": null,
            "border": null,
            "align_items": null,
            "bottom": null,
            "_model_module": "@jupyter-widgets/base",
            "top": null,
            "grid_column": null,
            "overflow_y": null,
            "overflow_x": null,
            "grid_auto_flow": null,
            "grid_area": null,
            "grid_template_columns": null,
            "flex": null,
            "_model_name": "LayoutModel",
            "justify_items": null,
            "grid_row": null,
            "max_height": null,
            "align_content": null,
            "visibility": null,
            "align_self": null,
            "height": null,
            "min_height": null,
            "padding": null,
            "grid_auto_rows": null,
            "grid_gap": null,
            "max_width": null,
            "order": null,
            "_view_module_version": "1.2.0",
            "grid_template_areas": null,
            "object_position": null,
            "object_fit": null,
            "grid_auto_columns": null,
            "margin": null,
            "display": null,
            "left": null
          }
        },
        "4e2c27d6455c490e8736d7d2b6b27227": {
          "model_module": "@jupyter-widgets/controls",
          "model_name": "DescriptionStyleModel",
          "state": {
            "_view_name": "StyleView",
            "_model_name": "DescriptionStyleModel",
            "description_width": "",
            "_view_module": "@jupyter-widgets/base",
            "_model_module_version": "1.5.0",
            "_view_count": null,
            "_view_module_version": "1.2.0",
            "_model_module": "@jupyter-widgets/controls"
          }
        },
        "ac1d1c1430bd48479719e1dc91b993ed": {
          "model_module": "@jupyter-widgets/base",
          "model_name": "LayoutModel",
          "state": {
            "_view_name": "LayoutView",
            "grid_template_rows": null,
            "right": null,
            "justify_content": null,
            "_view_module": "@jupyter-widgets/base",
            "overflow": null,
            "_model_module_version": "1.2.0",
            "_view_count": null,
            "flex_flow": null,
            "width": null,
            "min_width": null,
            "border": null,
            "align_items": null,
            "bottom": null,
            "_model_module": "@jupyter-widgets/base",
            "top": null,
            "grid_column": null,
            "overflow_y": null,
            "overflow_x": null,
            "grid_auto_flow": null,
            "grid_area": null,
            "grid_template_columns": null,
            "flex": null,
            "_model_name": "LayoutModel",
            "justify_items": null,
            "grid_row": null,
            "max_height": null,
            "align_content": null,
            "visibility": null,
            "align_self": null,
            "height": null,
            "min_height": null,
            "padding": null,
            "grid_auto_rows": null,
            "grid_gap": null,
            "max_width": null,
            "order": null,
            "_view_module_version": "1.2.0",
            "grid_template_areas": null,
            "object_position": null,
            "object_fit": null,
            "grid_auto_columns": null,
            "margin": null,
            "display": null,
            "left": null
          }
        },
        "29a23dce8f774247b88ec26351ee05b4": {
          "model_module": "@jupyter-widgets/controls",
          "model_name": "DescriptionStyleModel",
          "state": {
            "_view_name": "StyleView",
            "_model_name": "DescriptionStyleModel",
            "description_width": "",
            "_view_module": "@jupyter-widgets/base",
            "_model_module_version": "1.5.0",
            "_view_count": null,
            "_view_module_version": "1.2.0",
            "_model_module": "@jupyter-widgets/controls"
          }
        },
        "fae4ead4361f47ce90e906a0c4aeca5e": {
          "model_module": "@jupyter-widgets/base",
          "model_name": "LayoutModel",
          "state": {
            "_view_name": "LayoutView",
            "grid_template_rows": null,
            "right": null,
            "justify_content": null,
            "_view_module": "@jupyter-widgets/base",
            "overflow": null,
            "_model_module_version": "1.2.0",
            "_view_count": null,
            "flex_flow": null,
            "width": null,
            "min_width": null,
            "border": null,
            "align_items": null,
            "bottom": null,
            "_model_module": "@jupyter-widgets/base",
            "top": null,
            "grid_column": null,
            "overflow_y": null,
            "overflow_x": null,
            "grid_auto_flow": null,
            "grid_area": null,
            "grid_template_columns": null,
            "flex": null,
            "_model_name": "LayoutModel",
            "justify_items": null,
            "grid_row": null,
            "max_height": null,
            "align_content": null,
            "visibility": null,
            "align_self": null,
            "height": null,
            "min_height": null,
            "padding": null,
            "grid_auto_rows": null,
            "grid_gap": null,
            "max_width": null,
            "order": null,
            "_view_module_version": "1.2.0",
            "grid_template_areas": null,
            "object_position": null,
            "object_fit": null,
            "grid_auto_columns": null,
            "margin": null,
            "display": null,
            "left": null
          }
        },
        "ea1cab64f6804ab68ee5f643b2b523eb": {
          "model_module": "@jupyter-widgets/base",
          "model_name": "LayoutModel",
          "state": {
            "_view_name": "LayoutView",
            "grid_template_rows": null,
            "right": null,
            "justify_content": null,
            "_view_module": "@jupyter-widgets/base",
            "overflow": null,
            "_model_module_version": "1.2.0",
            "_view_count": null,
            "flex_flow": null,
            "width": null,
            "min_width": null,
            "border": null,
            "align_items": null,
            "bottom": null,
            "_model_module": "@jupyter-widgets/base",
            "top": null,
            "grid_column": null,
            "overflow_y": null,
            "overflow_x": null,
            "grid_auto_flow": null,
            "grid_area": null,
            "grid_template_columns": null,
            "flex": null,
            "_model_name": "LayoutModel",
            "justify_items": null,
            "grid_row": null,
            "max_height": null,
            "align_content": null,
            "visibility": null,
            "align_self": null,
            "height": null,
            "min_height": null,
            "padding": null,
            "grid_auto_rows": null,
            "grid_gap": null,
            "max_width": null,
            "order": null,
            "_view_module_version": "1.2.0",
            "grid_template_areas": null,
            "object_position": null,
            "object_fit": null,
            "grid_auto_columns": null,
            "margin": null,
            "display": null,
            "left": null
          }
        },
        "faf9619a9c6943cf91771e34fc70424a": {
          "model_module": "@jupyter-widgets/base",
          "model_name": "LayoutModel",
          "state": {
            "_view_name": "LayoutView",
            "grid_template_rows": null,
            "right": null,
            "justify_content": null,
            "_view_module": "@jupyter-widgets/base",
            "overflow": null,
            "_model_module_version": "1.2.0",
            "_view_count": null,
            "flex_flow": null,
            "width": null,
            "min_width": null,
            "border": null,
            "align_items": null,
            "bottom": null,
            "_model_module": "@jupyter-widgets/base",
            "top": null,
            "grid_column": null,
            "overflow_y": null,
            "overflow_x": null,
            "grid_auto_flow": null,
            "grid_area": null,
            "grid_template_columns": null,
            "flex": null,
            "_model_name": "LayoutModel",
            "justify_items": null,
            "grid_row": null,
            "max_height": null,
            "align_content": null,
            "visibility": null,
            "align_self": null,
            "height": null,
            "min_height": null,
            "padding": null,
            "grid_auto_rows": null,
            "grid_gap": null,
            "max_width": null,
            "order": null,
            "_view_module_version": "1.2.0",
            "grid_template_areas": null,
            "object_position": null,
            "object_fit": null,
            "grid_auto_columns": null,
            "margin": null,
            "display": null,
            "left": null
          }
        }
      }
    }
  },
  "cells": [
    {
      "cell_type": "markdown",
      "metadata": {
        "id": "view-in-github",
        "colab_type": "text"
      },
      "source": [
        "<a href=\"https://colab.research.google.com/github/pds2021/a5-nicoelbert/blob/assignment_5/fws_app.ipynb\" target=\"_parent\"><img src=\"https://colab.research.google.com/assets/colab-badge.svg\" alt=\"Open In Colab\"/></a>"
      ]
    },
    {
      "cell_type": "code",
      "metadata": {
        "id": "7jGxxAn5lqbv"
      },
      "source": [
        "!pip install -Uqq fastai  # upgrade fastai on colab\r\n",
        "from fastai.vision.all import *\r\n",
        "from fastai.vision.widgets import *\r\n",
        "import os, shutil\r\n",
        "\r\n",
        "from PIL import Image\r\n",
        "import requests\r\n",
        "from io import BytesIO\r\n",
        "from fastai.vision.widgets import *"
      ],
      "execution_count": 1,
      "outputs": []
    },
    {
      "cell_type": "code",
      "metadata": {
        "colab": {
          "base_uri": "https://localhost:8080/"
        },
        "id": "6SMcoQBIlj2v",
        "outputId": "7db312c9-9715-4607-a6df-2f678a0dc93c"
      },
      "source": [
        "from google.colab import drive\r\n",
        "drive.mount('/content/drive')\r\n",
        "\r\n",
        "%cd /content/drive/MyDrive/Uni/PDS/FWF\r\n",
        "\r\n",
        "path = Path(r'/content/drive/MyDrive/Uni/PDS/FWF')\r\n",
        "data_path = Path(r'/content/drive/MyDrive/Uni/PDS/FWF/data')\r\n",
        "data_path.ls()"
      ],
      "execution_count": 2,
      "outputs": [
        {
          "output_type": "stream",
          "text": [
            "Drive already mounted at /content/drive; to attempt to forcibly remount, call drive.mount(\"/content/drive\", force_remount=True).\n",
            "/content/drive/MyDrive/Uni/PDS/FWF\n"
          ],
          "name": "stdout"
        },
        {
          "output_type": "execute_result",
          "data": {
            "text/plain": [
              "(#240) [Path('/content/drive/MyDrive/Uni/PDS/FWF/data/AF'),Path('/content/drive/MyDrive/Uni/PDS/FWF/data/AL'),Path('/content/drive/MyDrive/Uni/PDS/FWF/data/DZ'),Path('/content/drive/MyDrive/Uni/PDS/FWF/data/AS'),Path('/content/drive/MyDrive/Uni/PDS/FWF/data/AD'),Path('/content/drive/MyDrive/Uni/PDS/FWF/data/AO'),Path('/content/drive/MyDrive/Uni/PDS/FWF/data/AI'),Path('/content/drive/MyDrive/Uni/PDS/FWF/data/AQ'),Path('/content/drive/MyDrive/Uni/PDS/FWF/data/AG'),Path('/content/drive/MyDrive/Uni/PDS/FWF/data/AR')...]"
            ]
          },
          "metadata": {
            "tags": []
          },
          "execution_count": 2
        }
      ]
    },
    {
      "cell_type": "code",
      "metadata": {
        "id": "Nr0wmgbqnWFV"
      },
      "source": [
        "#load Masterdata\r\n",
        "df_countries = pd.read_csv('/content/drive/MyDrive/Uni/PDS/FWF/countries.CSV')\r\n",
        "\r\n",
        "\r\n",
        "dict_countrynames = df_countries.set_index('Code').to_dict()['Country']\r\n",
        "list_countrycodes= df_countries['Code'].tolist()\r\n"
      ],
      "execution_count": 3,
      "outputs": []
    },
    {
      "cell_type": "code",
      "metadata": {
        "id": "eDTDbSWvtWvX"
      },
      "source": [
        "def getPreText(confidence):\r\n",
        "  #return the right preffix text based on the confidence\r\n",
        "  pretext = \"\"\r\n",
        "  if confidence >= 0.9:\r\n",
        "    pretext = \"This is the flag of \"\r\n",
        "  elif confidence >= 0.8:\r\n",
        "    pretext = \"I am pretty sure, that this is the flag of \"\r\n",
        "  elif confidence >= 0.7:\r\n",
        "    pretext = \"This should be the flag of \"\r\n",
        "  elif confidence >= 0.6:\r\n",
        "    pretext = \"This might be the flag of \"\r\n",
        "  elif confidence < 0.4:\r\n",
        "    pretext = \"I have to guess - eventually the flag of \"\r\n",
        "  return pretext\r\n",
        "\r\n",
        "#######################################################################################\r\n",
        "\r\n",
        "def getConfidencePercentage(confidence):\r\n",
        "  #return right suffix\r\n",
        "  c_percentage = round(confidence * 100,2)\r\n",
        "  return c_percentage\r\n",
        "\r\n",
        "#######################################################################################\r\n",
        "\r\n",
        "def on_click_classify(change):\r\n",
        "  #get image\r\n",
        "  img = PILImage.create(btn_upload.data[-1])\r\n",
        "  out_pl.clear_output()\r\n",
        "  with out_pl:display(img.to_thumb(256,256))\r\n",
        "\r\n",
        "  #make prediction and retrieve information\r\n",
        "  country_id = learn_inf.predict(img)[0]\r\n",
        "  country_tensor_index = learn_inf.predict(img)[1].item()\r\n",
        "  confidence = learn_inf.predict(img)[2].numpy()[country_tensor_index]\r\n",
        "\r\n",
        "  example_pl.clear_output()\r\n",
        "  with example_pl:display(get_example_img(country_id).to_thumb(256,256),)\r\n",
        "\r\n",
        "  #read full country name \r\n",
        "  country_name = dict_countrynames[country_id]\r\n",
        "\r\n",
        "  #get fitting strings\r\n",
        "  if confidence > 0:\r\n",
        "    pretext= getPreText(confidence)\r\n",
        "  else:\r\n",
        "    pretext= \"No prediction possible\"\r\n",
        "  \r\n",
        "\r\n",
        "  #return the Name of the predicted country\r\n",
        "  lbl_pred.value = pretext + country_name\r\n",
        "  \r\n",
        "  #update confidence bar\r\n",
        "  bar_confidence.value = getConfidencePercentage(confidence)\r\n",
        "  bar_confidence_score.value = \"{} %\".format(getConfidencePercentage(confidence))\r\n",
        "\r\n",
        "  #change to the right accordion tab\r\n",
        "  accordion.selected_index = 1\r\n",
        "\r\n",
        "#######################################################################################\r\n",
        "def on_click_show(change):\r\n",
        "  #get image\r\n",
        "  lbl_upload2.value = \"You uploaded the following image: \"\r\n",
        "  img = PILImage.create(btn_upload.data[-1])\r\n",
        "  out_pl.clear_output()\r\n",
        "  with out_pl:display(img.to_thumb(256,256))\r\n",
        "#######################################################################################\r\n",
        "\r\n",
        "def search_images_ddg(key,max_n=1):\r\n",
        "    \"\"\"Search for 'key' with DuckDuckGo and return a unique urls of 'max_n' images\r\n",
        "    (Adopted from https://github.com/deepanprabhu/duckduckgo-images-api and \r\n",
        "    https://github.com/fastai/fastbook/blob/master/utils.py)\r\n",
        "    \"\"\"\r\n",
        "    url        = 'https://duckduckgo.com/'\r\n",
        "    params     = {'q':key}\r\n",
        "    res        = requests.post(url,data=params)\r\n",
        "    searchObj  = re.search(r'vqd=([\\d-]+)\\&',res.text)\r\n",
        "    if not searchObj: print('Token Parsing Failed !'); return\r\n",
        "    requestUrl = url + 'i.js'\r\n",
        "    headers    = {'User-Agent': 'Mozilla/5.0 (X11; Ubuntu; Linux x86_64; rv:71.0) Gecko/20100101 Firefox/71.0',\r\n",
        "                 'referer': 'https://duckduckgo.com/'}\r\n",
        "    params     = (('l','us-en'),('o','json'),('q',key),('vqd',searchObj.group(1)),('f',',,,'),('p','1'),('v7exp','a'))\r\n",
        "    urls       = []\r\n",
        "    while True:\r\n",
        "        try:\r\n",
        "            res  = requests.get(requestUrl,headers=headers,params=params)\r\n",
        "            data = json.loads(res.text)\r\n",
        "            for obj in data['results']:\r\n",
        "                urls.append(obj['image'])\r\n",
        "                max_n = max_n - 1\r\n",
        "                if max_n < 1: return L(set(urls))     # dedupe\r\n",
        "            if 'next' not in data: return L(set(urls))\r\n",
        "            requestUrl = url + data['next']\r\n",
        "        except:\r\n",
        "            pass\r\n",
        "\r\n",
        "#######################################################################################\r\n",
        "\r\n",
        "def get_example_img(country_id):\r\n",
        "  country_name = dict_countrynames[country_id]\r\n",
        "  results = search_images_ddg(f'flag {country_name} wikipedia')\r\n",
        "  response = requests.get(results[0])\r\n",
        "  img = Image.open(BytesIO(response.content))\r\n",
        "  return img"
      ],
      "execution_count": 4,
      "outputs": []
    },
    {
      "cell_type": "markdown",
      "metadata": {
        "id": "6Ku88wBu6pVh"
      },
      "source": [
        ""
      ]
    },
    {
      "cell_type": "code",
      "metadata": {
        "colab": {
          "base_uri": "https://localhost:8080/",
          "height": 621,
          "referenced_widgets": [
            "96af6119eabd4f6f8b91b0ba289972db",
            "f45590f9c11148749a156f960917e2b7",
            "55e5a647d91b460b9be83e3739d28295",
            "5c9de520ea0c48bb8707f49e3d4f4501",
            "866b07d2c78741309f5a4af138b7d145",
            "657e773bd9dc409c900952c7f392cd53",
            "f2f07f8848a447868afb41bc7959eef6",
            "9508bbc93c184f1e820de50c644aec28",
            "3013edc3d0d1425b94e5fe92682816b1",
            "02cc8a94193a457b95cbbfc9850fa0d6",
            "f422c94937804f6e814f815c4d900572",
            "b11990248f9840919e2e9acf4091915b",
            "6c48dcc413ed419ea8fce98ee0db72f2",
            "b1b936074afd4c41afc816f23e9f705d",
            "699f7c1f5e0b4a31b594e3a61e30b319",
            "31e002a9e63645358ae9843eaadddc8b",
            "d250d807e5d94190a2add3c39a8e726a",
            "90059f5a5e73488db8c64eb7ff5c8566",
            "7e52724170d14ab5871918df2e27f8f9",
            "c840272cc58a4b8998512da8c943e633",
            "7410bf3dca67462ca0e1abec71ec4520",
            "94916c87b42645179c01920cf2522691",
            "04f6038bc0bf4a6c993198a3da8c258c",
            "7f8ace20f0f040849656715736517710",
            "a7080c2056c14e74964a555b00bfb6e3",
            "0534d9a485ed44998220019356873cc9",
            "176a5ce30d924a6383126330660db7bf",
            "f7ba14e8394e45d0aec2ea03c5795351",
            "d7463650b8184621b014ca02d80f05ea",
            "f5b60cb2a8eb48a3a636ab5b14b17d0c",
            "9008e5a0d673439b8277bd3bd4cc43f7",
            "d1e60a4c1e32486a86c61a0a96977d6e",
            "8872356b5ea74ba3a745ff054de96bf8",
            "87307d136d84464ea98584510b5eea54",
            "fab68a89cfe74ab59081bf22866e424d",
            "4056a8ba2c8441ea9a4ecba96e4755d3",
            "5dfa530fd29a486c8a45eb611d83b493",
            "ffb4f6328b7147d09ef1869896a52e10",
            "f7daa01980aa4b6baf394b4f9e89091b",
            "393235b86b164b2e85df0a66d3625f02",
            "b18fb97da1374327b5178eef8811bc83",
            "116733a9c0c0449588e7703428f58152",
            "3f16cfed1f55445891f1617aaa04d482",
            "91b880b283bd49feb929b41a30e9a765",
            "343a6cb636ee45bdbd056aabbc068b54",
            "4e2c27d6455c490e8736d7d2b6b27227",
            "ac1d1c1430bd48479719e1dc91b993ed",
            "29a23dce8f774247b88ec26351ee05b4",
            "fae4ead4361f47ce90e906a0c4aeca5e",
            "ea1cab64f6804ab68ee5f643b2b523eb",
            "faf9619a9c6943cf91771e34fc70424a"
          ]
        },
        "id": "tgW7mX7NmmwO",
        "outputId": "2cbe00a2-2e5d-4963-db3f-67dc2715d4ea"
      },
      "source": [
        "#load learner\r\n",
        "learn_inf = load_learner(path/'export.pkl')\r\n",
        "\r\n",
        "\r\n",
        "#create Labels\r\n",
        "lbl_upload1 = widgets.Label('Upload the flag you want to learn about')\r\n",
        "lbl_upload2 = widgets.Label()\r\n",
        "lbl_pred = widgets.Label()\r\n",
        "lbl_empty = widgets.Label(\" \")\r\n",
        "lbl_result1 = VBox([widgets.Label('The image you uploaded: ')])\r\n",
        "lbl_result2 = VBox([lbl_empty, widgets.Label('The flag should look like this: ')])\r\n",
        "\r\n",
        "\r\n",
        "#create upload button\r\n",
        "btn_upload = widgets.FileUpload()\r\n",
        "btn_upload\r\n",
        "\r\n",
        "#create Button for Classify\r\n",
        "btn_run = widgets.Button(description='Classify')\r\n",
        "btn_run.on_click(on_click_classify)\r\n",
        "\r\n",
        "btn_show = widgets.Button(description='Show Upload')\r\n",
        "btn_show.on_click(on_click_show)\r\n",
        "\r\n",
        "#output upload\r\n",
        "out_pl = widgets.Output()\r\n",
        "out_pl.clear_output()\r\n",
        "\r\n",
        "\r\n",
        "\r\n",
        "#output example image\r\n",
        "example_pl = widgets.Output()\r\n",
        "example_pl.clear_output()\r\n",
        "\r\n",
        "#confidence bar\r\n",
        "bar_confidence = widgets.IntProgress(\r\n",
        "    value=0,\r\n",
        "    min=0,\r\n",
        "    max=100,\r\n",
        "    step=1,\r\n",
        "    description='Confidence: ',\r\n",
        "    bar_style='success', # 'success', 'info', 'warning', 'danger' or ''\r\n",
        "    orientation='horizontal'\r\n",
        ")\r\n",
        "\r\n",
        "bar_confidence_score =  widgets.Label()\r\n",
        "\r\n",
        "bar_confidence_full = HBox([bar_confidence,bar_confidence_score])\r\n",
        "\r\n",
        "#collect widgets\r\n",
        "upload_widgets = VBox([lbl_upload1,HBox([btn_upload,btn_show,btn_run]),lbl_upload2,out_pl])\r\n",
        "result_widgets = VBox([lbl_result1,out_pl,lbl_empty, lbl_pred,bar_confidence_full,lbl_result2, example_pl])\r\n",
        "\r\n",
        "#create accordion\r\n",
        "accordion = widgets.Accordion(children=[upload_widgets, result_widgets])\r\n",
        "accordion.set_title(0, 'Upload')\r\n",
        "accordion.set_title(1, 'Result')\r\n",
        "accordion\r\n",
        "\r\n",
        "\r\n"
      ],
      "execution_count": 12,
      "outputs": [
        {
          "output_type": "display_data",
          "data": {
            "application/vnd.jupyter.widget-view+json": {
              "model_id": "96af6119eabd4f6f8b91b0ba289972db",
              "version_minor": 0,
              "version_major": 2
            },
            "text/plain": [
              "Accordion(children=(VBox(children=(Label(value='Upload the flag you want to learn about'), HBox(children=(File…"
            ]
          },
          "metadata": {
            "tags": []
          }
        },
        {
          "output_type": "display_data",
          "data": {
            "text/html": [
              ""
            ],
            "text/plain": [
              "<IPython.core.display.HTML object>"
            ]
          },
          "metadata": {
            "tags": []
          }
        },
        {
          "output_type": "display_data",
          "data": {
            "text/html": [
              ""
            ],
            "text/plain": [
              "<IPython.core.display.HTML object>"
            ]
          },
          "metadata": {
            "tags": []
          }
        },
        {
          "output_type": "display_data",
          "data": {
            "text/html": [
              ""
            ],
            "text/plain": [
              "<IPython.core.display.HTML object>"
            ]
          },
          "metadata": {
            "tags": []
          }
        },
        {
          "output_type": "display_data",
          "data": {
            "text/html": [
              ""
            ],
            "text/plain": [
              "<IPython.core.display.HTML object>"
            ]
          },
          "metadata": {
            "tags": []
          }
        },
        {
          "output_type": "display_data",
          "data": {
            "text/html": [
              ""
            ],
            "text/plain": [
              "<IPython.core.display.HTML object>"
            ]
          },
          "metadata": {
            "tags": []
          }
        },
        {
          "output_type": "display_data",
          "data": {
            "text/html": [
              ""
            ],
            "text/plain": [
              "<IPython.core.display.HTML object>"
            ]
          },
          "metadata": {
            "tags": []
          }
        },
        {
          "output_type": "display_data",
          "data": {
            "text/html": [
              ""
            ],
            "text/plain": [
              "<IPython.core.display.HTML object>"
            ]
          },
          "metadata": {
            "tags": []
          }
        },
        {
          "output_type": "display_data",
          "data": {
            "text/html": [
              ""
            ],
            "text/plain": [
              "<IPython.core.display.HTML object>"
            ]
          },
          "metadata": {
            "tags": []
          }
        },
        {
          "output_type": "display_data",
          "data": {
            "text/html": [
              ""
            ],
            "text/plain": [
              "<IPython.core.display.HTML object>"
            ]
          },
          "metadata": {
            "tags": []
          }
        }
      ]
    },
    {
      "cell_type": "code",
      "metadata": {
        "id": "uGVPNbO79dbb"
      },
      "source": [
        ""
      ],
      "execution_count": 5,
      "outputs": []
    },
    {
      "cell_type": "code",
      "metadata": {
        "id": "WS3ybPuJFXAz"
      },
      "source": [
        ""
      ],
      "execution_count": 5,
      "outputs": []
    }
  ]
}
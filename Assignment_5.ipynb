{
  "nbformat": 4,
  "nbformat_minor": 0,
  "metadata": {
    "accelerator": "GPU",
    "colab": {
      "name": "Assignment_5.ipynb",
      "provenance": [],
      "collapsed_sections": [],
      "include_colab_link": true
    },
    "kernelspec": {
      "display_name": "fastai",
      "language": "python",
      "name": "fastai"
    },
    "language_info": {
      "codemirror_mode": {
        "name": "ipython",
        "version": 3
      },
      "file_extension": ".py",
      "mimetype": "text/x-python",
      "name": "python",
      "nbconvert_exporter": "python",
      "pygments_lexer": "ipython3",
      "version": "3.8.6"
    },
    "toc": {
      "base_numbering": 1,
      "nav_menu": {},
      "number_sections": true,
      "sideBar": true,
      "skip_h1_title": true,
      "title_cell": "Table of Contents",
      "title_sidebar": "Contents",
      "toc_cell": false,
      "toc_position": {},
      "toc_section_display": true,
      "toc_window_display": false
    }
  },
  "cells": [
    {
      "cell_type": "markdown",
      "metadata": {
        "id": "view-in-github",
        "colab_type": "text"
      },
      "source": [
        "<a href=\"https://colab.research.google.com/github/pds2021/a5-nicoelbert/blob/assignment_5/Assignment_5.ipynb\" target=\"_parent\"><img src=\"https://colab.research.google.com/assets/colab-badge.svg\" alt=\"Open In Colab\"/></a>"
      ]
    },
    {
      "cell_type": "markdown",
      "metadata": {
        "id": "tGc2_6yfntEV"
      },
      "source": [
        "*Practical Data Science 20/21*\n",
        "# Programming Assignment 5 - Create your own App"
      ]
    },
    {
      "cell_type": "markdown",
      "metadata": {
        "id": "IoLPBsbcntEY"
      },
      "source": [
        "In this programming assignment you'll build a model that serves as a foundation for your own app. To this end, you will create your own dataset, build a deep learning model on this data, and deploy it!"
      ]
    },
    {
      "cell_type": "code",
      "metadata": {
        "id": "1LFwWTzNF40e"
      },
      "source": [
        "!pip install -Uqq fastai  # upgrade fastai on colab\n",
        "from fastai.vision.all import *\n",
        "from fastai.vision.widgets import *\n",
        "import os"
      ],
      "execution_count": 1,
      "outputs": []
    },
    {
      "cell_type": "markdown",
      "metadata": {
        "id": "W66apl0K_0-p"
      },
      "source": [
        "__Google Drive integration__\n",
        "\n",
        "If you want to store and access your downloaded data for this assignment you can use the following code:"
      ]
    },
    {
      "cell_type": "code",
      "metadata": {
        "colab": {
          "base_uri": "https://localhost:8080/"
        },
        "id": "yGFt-2HA_wEF",
        "outputId": "e1b96e3b-0881-421a-db6c-fd585388e1c0"
      },
      "source": [
        "from google.colab import drive\n",
        "drive.mount('/content/drive')\n",
        "\n",
        "\n",
        "\n",
        "\n",
        "%cd /content/drive/MyDrive/Uni/PDS/FWF\n",
        "\n",
        "path = Path(r'/content/drive/MyDrive/Uni/PDS/FWF')\n",
        "path.ls()"
      ],
      "execution_count": 6,
      "outputs": [
        {
          "output_type": "stream",
          "text": [
            "Drive already mounted at /content/drive; to attempt to forcibly remount, call drive.mount(\"/content/drive\", force_remount=True).\n",
            "/content/drive/MyDrive/Uni/PDS/FWF\n"
          ],
          "name": "stdout"
        },
        {
          "output_type": "execute_result",
          "data": {
            "text/plain": [
              "(#2) [Path('/content/drive/MyDrive/Uni/PDS/FWF/data'),Path('/content/drive/MyDrive/Uni/PDS/FWF/countries.txt')]"
            ]
          },
          "metadata": {
            "tags": []
          },
          "execution_count": 6
        }
      ]
    },
    {
      "cell_type": "markdown",
      "metadata": {
        "id": "0jMXp_ssBLeN"
      },
      "source": [
        "## Develop an Application Idea"
      ]
    },
    {
      "cell_type": "markdown",
      "metadata": {
        "id": "KubOl5bIGf1J"
      },
      "source": [
        "___Free your mind - this part is totally up to you.___\n",
        "\n",
        "Think of an app that you'd like to build.\n",
        "*   What useful app have you been missing?\n",
        "*   Do you have any hobbies an app could be helpful for?\n",
        "*   Is this a suitable classification or regression task? \n",
        "*   How could you get the data?\n"
      ]
    },
    {
      "cell_type": "markdown",
      "metadata": {
        "id": "wIV5nyeMxa81"
      },
      "source": [
        "My dear friend sheldon and I are happy to welcome you to \r\n",
        "#Fun with Flags\r\n",
        "\r\n",
        "<img src=\"http://eastward.de/wp-content/uploads/2020/12/title.png\" width=\"500\"/>"
      ]
    },
    {
      "cell_type": "markdown",
      "metadata": {
        "id": "JcWF9CzcntEb"
      },
      "source": [
        "## Creating your own Dataset\n",
        "\n",
        "Now you need to construct a dataset that allows you to train a model for your app. You learned about how to create a dataset in Lecture 7.\n",
        "\n",
        "Here, you can follow the steps from the lecture or look into the following ressources:\n",
        "\n",
        "*   A [tool](https://github.com/toffebjorkskog/ml-tools/blob/master/gi2ds.md) for excluding irrelevant images from Google Image Search results beforehand by @melonkernel\n",
        "*   See this [post](https://www.christianwerner.net/tech/Build-your-image-dataset-faster/) about an alternative image downloader/cleaner by @cwerner\n",
        "*   Of course, you can use your own data/images :) "
      ]
    },
    {
      "cell_type": "code",
      "metadata": {
        "colab": {
          "base_uri": "https://localhost:8080/"
        },
        "id": "sy7CThSkC5mP",
        "outputId": "755f8ed0-2082-4af0-e4fd-40bba3de6bf0"
      },
      "source": [
        "#in this application I'd like to classify all Flags of a 241 countries long list\r\n",
        "#https://gist.github.com/marijn/396531/188caa065e3cd319fed7913ee3eecf5eec541918#file-countries-txt\r\n",
        "\r\n",
        "\r\n",
        "df_countries = pd.read_csv('/content/drive/MyDrive/Uni/PDS/FWF/countries.CSV')\r\n",
        "\r\n",
        "\r\n",
        "dict_countries = df_countries.set_index('Code').to_dict()['Country']\r\n",
        "list_countrycodes= df_countries['Code'].tolist()\r\n",
        "\r\n",
        "#create list and Dictonary from Countries\r\n",
        "print(list_countrycodes)\r\n",
        "print(dict_countries)\r\n",
        "\r\n",
        "\r\n",
        "#create directorys once \r\n",
        "\"\"\"\r\n",
        "\r\n",
        "for cc in list_countrycodes:\r\n",
        "  os.mkdir('data/{}'.format(cc))\r\n",
        "\r\n",
        "241 directorys created\"\"\"\r\n",
        "\r\n",
        "\r\n"
      ],
      "execution_count": 52,
      "outputs": [
        {
          "output_type": "stream",
          "text": [
            "['AF', 'AL', 'DZ', 'AS', 'AD', 'AO', 'AI', 'AQ', 'AG', 'AR', 'AM', 'AW', 'AU', 'AT', 'AZ', 'BS', 'BH', 'BD', 'BB', 'BY', 'BE', 'BZ', 'BJ', 'BM', 'BT', 'BO', 'BA', 'BW', 'BV', 'BR', 'IO', 'BN', 'BG', 'BF', 'BI', 'KH', 'CM', 'CA', 'CV', 'KY', 'CF', 'TD', 'CL', 'CN', 'CX', 'CC', 'CO', 'KM', 'CG', 'CD', 'CK', 'CR', 'CI', 'HR', 'CU', 'CY', 'CZ', 'DK', 'DJ', 'DM', 'DO', 'TP', 'EC', 'EG', 'SV', 'GQ', 'ER', 'EE', 'ET', 'FK', 'FO', 'FJ', 'FI', 'FR', 'GF', 'PF', 'TF', 'GA', 'GM', 'GE', 'DE', 'GH', 'GI', 'GR', 'GL', 'GD', 'GP', 'GU', 'GT', 'GN', 'GW', 'GY', 'HT', 'HM', 'VA', 'HN', 'HK', 'HU', 'IS', 'IN', 'ID', 'IR', 'IQ', 'IE', 'IL', 'IT', 'JM', 'JP', 'JO', 'KZ', 'KE', 'KI', 'KP', 'KR', 'KV', 'KW', 'KG', 'LA', 'LV', 'LB', 'LS', 'LR', 'LY', 'LI', 'LT', 'LU', 'MO', 'MK', 'MG', 'MW', 'MY', 'MV', 'ML', 'MT', 'MH', 'MQ', 'MR', 'MU', 'YT', 'MX', 'FM', 'MD', 'MC', 'MN', 'MS', 'ME', 'MA', 'MZ', 'MM', nan, 'NR', 'NP', 'NL', 'AN', 'NC', 'NZ', 'NI', 'NE', 'NG', 'NU', 'NF', 'MP', 'NO', 'OM', 'PK', 'PW', 'PS', 'PA', 'PG', 'PY', 'PE', 'PH', 'PN', 'PL', 'PT', 'PR', 'QA', 'RE', 'RO', 'RU', 'RW', 'SH', 'KN', 'LC', 'PM', 'VC', 'WS', 'SM', 'ST', 'SA', 'SN', 'RS', 'SC', 'SL', 'SG', 'SK', 'SI', 'SB', 'SO', 'ZA', 'GS', 'ES', 'LK', 'SD', 'SR', 'SJ', 'SZ', 'SE', 'CH', 'SY', 'TW', 'TJ', 'TZ', 'TH', 'TG', 'TK', 'TO', 'TT', 'TN', 'TR', 'TM', 'TC', 'TV', 'UG', 'UA', 'AE', 'GB', 'US', 'UM', 'UY', 'UZ', 'VU', 'VE', 'VN', 'VG', 'VI', 'WF', 'EH', 'YE', 'ZM', 'ZW']\n",
            "{'AF': 'Afghanistan', 'AL': 'Albania', 'DZ': 'Algeria', 'AS': 'American Samoa', 'AD': 'Andorra', 'AO': 'Angola', 'AI': 'Anguilla', 'AQ': 'Antarctica', 'AG': 'Antigua And Barbuda', 'AR': 'Argentina', 'AM': 'Armenia', 'AW': 'Aruba', 'AU': 'Australia', 'AT': 'Austria', 'AZ': 'Azerbaijan', 'BS': 'Bahamas', 'BH': 'Bahrain', 'BD': 'Bangladesh', 'BB': 'Barbados', 'BY': 'Belarus', 'BE': 'Belgium', 'BZ': 'Belize', 'BJ': 'Benin', 'BM': 'Bermuda', 'BT': 'Bhutan', 'BO': 'Bolivia', 'BA': 'Bosnia And Herzegovina', 'BW': 'Botswana', 'BV': 'Bouvet Island', 'BR': 'Brazil', 'IO': 'British Indian Ocean Territory', 'BN': 'Brunei Darussalam', 'BG': 'Bulgaria', 'BF': 'Burkina Faso', 'BI': 'Burundi', 'KH': 'Cambodia', 'CM': 'Cameroon', 'CA': 'Canada', 'CV': 'Cape Verde', 'KY': 'Cayman Islands', 'CF': 'Central African Republic', 'TD': 'Chad', 'CL': 'Chile', 'CN': 'China', 'CX': 'Christmas Island', 'CC': 'Cocos (keeling) Islands', 'CO': 'Colombia', 'KM': 'Comoros', 'CG': 'Congo', 'CD': 'Congo, The Democratic Republic Of The', 'CK': 'Cook Islands', 'CR': 'Costa Rica', 'CI': \"Cote D'ivoire\", 'HR': 'Croatia', 'CU': 'Cuba', 'CY': 'Cyprus', 'CZ': 'Czech Republic', 'DK': 'Denmark', 'DJ': 'Djibouti', 'DM': 'Dominica', 'DO': 'Dominican Republic', 'TP': 'East Timor', 'EC': 'Ecuador', 'EG': 'Egypt', 'SV': 'El Salvador', 'GQ': 'Equatorial Guinea', 'ER': 'Eritrea', 'EE': 'Estonia', 'ET': 'Ethiopia', 'FK': 'Falkland Islands (malvinas)', 'FO': 'Faroe Islands', 'FJ': 'Fiji', 'FI': 'Finland', 'FR': 'France', 'GF': 'French Guiana', 'PF': 'French Polynesia', 'TF': 'French Southern Territories', 'GA': 'Gabon', 'GM': 'Gambia', 'GE': 'Georgia', 'DE': 'Germany', 'GH': 'Ghana', 'GI': 'Gibraltar', 'GR': 'Greece', 'GL': 'Greenland', 'GD': 'Grenada', 'GP': 'Guadeloupe', 'GU': 'Guam', 'GT': 'Guatemala', 'GN': 'Guinea', 'GW': 'Guinea-bissau', 'GY': 'Guyana', 'HT': 'Haiti', 'HM': 'Heard Island And Mcdonald Islands', 'VA': 'Holy See (vatican City State)', 'HN': 'Honduras', 'HK': 'Hong Kong', 'HU': 'Hungary', 'IS': 'Iceland', 'IN': 'India', 'ID': 'Indonesia', 'IR': 'Iran, Islamic Republic Of', 'IQ': 'Iraq', 'IE': 'Ireland', 'IL': 'Israel', 'IT': 'Italy', 'JM': 'Jamaica', 'JP': 'Japan', 'JO': 'Jordan', 'KZ': 'Kazakstan', 'KE': 'Kenya', 'KI': 'Kiribati', 'KP': \"Korea, Democratic People's Republic Of\", 'KR': 'Korea, Republic Of', 'KV': 'Kosovo', 'KW': 'Kuwait', 'KG': 'Kyrgyzstan', 'LA': \"Lao People's Democratic Republic\", 'LV': 'Latvia', 'LB': 'Lebanon', 'LS': 'Lesotho', 'LR': 'Liberia', 'LY': 'Libyan Arab Jamahiriya', 'LI': 'Liechtenstein', 'LT': 'Lithuania', 'LU': 'Luxembourg', 'MO': 'Macau', 'MK': 'Macedonia, The Former Yugoslav Republic Of', 'MG': 'Madagascar', 'MW': 'Malawi', 'MY': 'Malaysia', 'MV': 'Maldives', 'ML': 'Mali', 'MT': 'Malta', 'MH': 'Marshall Islands', 'MQ': 'Martinique', 'MR': 'Mauritania', 'MU': 'Mauritius', 'YT': 'Mayotte', 'MX': 'Mexico', 'FM': 'Micronesia, Federated States Of', 'MD': 'Moldova, Republic Of', 'MC': 'Monaco', 'MN': 'Mongolia', 'MS': 'Montserrat', 'ME': 'Montenegro', 'MA': 'Morocco', 'MZ': 'Mozambique', 'MM': 'Myanmar', nan: 'Namibia', 'NR': 'Nauru', 'NP': 'Nepal', 'NL': 'Netherlands', 'AN': 'Netherlands Antilles', 'NC': 'New Caledonia', 'NZ': 'New Zealand', 'NI': 'Nicaragua', 'NE': 'Niger', 'NG': 'Nigeria', 'NU': 'Niue', 'NF': 'Norfolk Island', 'MP': 'Northern Mariana Islands', 'NO': 'Norway', 'OM': 'Oman', 'PK': 'Pakistan', 'PW': 'Palau', 'PS': 'Palestinian Territory, Occupied', 'PA': 'Panama', 'PG': 'Papua New Guinea', 'PY': 'Paraguay', 'PE': 'Peru', 'PH': 'Philippines', 'PN': 'Pitcairn', 'PL': 'Poland', 'PT': 'Portugal', 'PR': 'Puerto Rico', 'QA': 'Qatar', 'RE': 'Reunion', 'RO': 'Romania', 'RU': 'Russian Federation', 'RW': 'Rwanda', 'SH': 'Saint Helena', 'KN': 'Saint Kitts And Nevis', 'LC': 'Saint Lucia', 'PM': 'Saint Pierre And Miquelon', 'VC': 'Saint Vincent And The Grenadines', 'WS': 'Samoa', 'SM': 'San Marino', 'ST': 'Sao Tome And Principe', 'SA': 'Saudi Arabia', 'SN': 'Senegal', 'RS': 'Serbia', 'SC': 'Seychelles', 'SL': 'Sierra Leone', 'SG': 'Singapore', 'SK': 'Slovakia', 'SI': 'Slovenia', 'SB': 'Solomon Islands', 'SO': 'Somalia', 'ZA': 'South Africa', 'GS': 'South Georgia And The South Sandwich Islands', 'ES': 'Spain', 'LK': 'Sri Lanka', 'SD': 'Sudan', 'SR': 'Suriname', 'SJ': 'Svalbard And Jan Mayen', 'SZ': 'Swaziland', 'SE': 'Sweden', 'CH': 'Switzerland', 'SY': 'Syrian Arab Republic', 'TW': 'Taiwan, Province Of China', 'TJ': 'Tajikistan', 'TZ': 'Tanzania, United Republic Of', 'TH': 'Thailand', 'TG': 'Togo', 'TK': 'Tokelau', 'TO': 'Tonga', 'TT': 'Trinidad And Tobago', 'TN': 'Tunisia', 'TR': 'Turkey', 'TM': 'Turkmenistan', 'TC': 'Turks And Caicos Islands', 'TV': 'Tuvalu', 'UG': 'Uganda', 'UA': 'Ukraine', 'AE': 'United Arab Emirates', 'GB': 'United Kingdom', 'US': 'United States', 'UM': 'United States Minor Outlying Islands', 'UY': 'Uruguay', 'UZ': 'Uzbekistan', 'VU': 'Vanuatu', 'VE': 'Venezuela', 'VN': 'Viet Nam', 'VG': 'Virgin Islands, British', 'VI': 'Virgin Islands, U.s.', 'WF': 'Wallis And Futuna', 'EH': 'Western Sahara', 'YE': 'Yemen', 'ZM': 'Zambia', 'ZW': 'Zimbabwe'}\n",
            "241\n"
          ],
          "name": "stdout"
        }
      ]
    },
    {
      "cell_type": "code",
      "metadata": {
        "id": "GtHMMp7O-w_c"
      },
      "source": [
        ""
      ],
      "execution_count": null,
      "outputs": []
    },
    {
      "cell_type": "markdown",
      "metadata": {
        "id": "_1Ex4FjsQvdw"
      },
      "source": [
        "### 1. Dowload the data \n",
        "- You may use the helper functions from the lecture to get the image URLs\n",
        "- Create a new folder at your defined `path`\n",
        "- Use `download_image` to download the images into the corresponding (sub-)directories"
      ]
    },
    {
      "cell_type": "code",
      "metadata": {
        "id": "0JVnqaxNBinj"
      },
      "source": [
        "import requests\r\n",
        "import re\r\n",
        "import json\r\n",
        "from fastcore.foundation import L\r\n",
        "#function to return image urls for given terms from ddg -> from VL07\r\n",
        "\r\n",
        "def search_images_ddg(key,max_n=100):\r\n",
        "    \"\"\"Search for 'key' with DuckDuckGo and return a unique urls of 'max_n' images\r\n",
        "    (Adopted from https://github.com/deepanprabhu/duckduckgo-images-api and \r\n",
        "    https://github.com/fastai/fastbook/blob/master/utils.py)\r\n",
        "    \"\"\"\r\n",
        "    url        = 'https://duckduckgo.com/'\r\n",
        "    params     = {'q':key}\r\n",
        "    res        = requests.post(url,data=params)\r\n",
        "    searchObj  = re.search(r'vqd=([\\d-]+)\\&',res.text)\r\n",
        "    if not searchObj: print('Token Parsing Failed !'); return\r\n",
        "    requestUrl = url + 'i.js'\r\n",
        "    headers    = {'User-Agent': 'Mozilla/5.0 (X11; Ubuntu; Linux x86_64; rv:71.0) Gecko/20100101 Firefox/71.0',\r\n",
        "                 'referer': 'https://duckduckgo.com/'}\r\n",
        "    params     = (('l','us-en'),('o','json'),('q',key),('vqd',searchObj.group(1)),('f',',,,'),('p','1'),('v7exp','a'))\r\n",
        "    urls       = []\r\n",
        "    while True:\r\n",
        "        try:\r\n",
        "            res  = requests.get(requestUrl,headers=headers,params=params)\r\n",
        "            data = json.loads(res.text)\r\n",
        "            for obj in data['results']:\r\n",
        "                urls.append(obj['image'])\r\n",
        "                max_n = max_n - 1\r\n",
        "                if max_n < 1: return L(set(urls))     # dedupe\r\n",
        "            if 'next' not in data: return L(set(urls))\r\n",
        "            requestUrl = url + data['next']\r\n",
        "        except:\r\n",
        "            pass\r\n",
        "\r\n",
        "\r\n",
        "#deletefunction from  https://stackoverflow.com/questions/185936/how-to-delete-the-contents-of-a-folder\r\n",
        "import os, shutil\r\n",
        "#Function to clean a given folder\r\n",
        "\r\n",
        "def clean_folder(key):\r\n",
        "    dest = (path/'data/{}'.format(key))\r\n",
        "    folder =  dest\r\n",
        "    for filename in os.listdir(folder):\r\n",
        "        file_path = os.path.join(folder, filename)\r\n",
        "        try:\r\n",
        "            if os.path.isfile(file_path) or os.path.islink(file_path):\r\n",
        "                os.unlink(file_path)\r\n",
        "            elif os.path.isdir(file_path):\r\n",
        "                shutil.rmtree(file_path)\r\n",
        "        except Exception as e:\r\n",
        "            print('Failed to delete %s. Reason: %s' % (file_path, e))"
      ],
      "execution_count": 65,
      "outputs": []
    },
    {
      "cell_type": "code",
      "metadata": {
        "id": "cwK6vtTexMAU"
      },
      "source": [
        "#verify folder structure\r\n",
        "testlist = ['DE','AF','US','NL']\r\n",
        "\r\n",
        "\r\n",
        "# Write your code here\r\n",
        "\r\n",
        "\r\n",
        "for cc in testlist:\r\n",
        "    c = dict_countries[cc]\r\n",
        "    dest = (path/'data/{}'.format(cc))\r\n",
        "    dest.mkdir(exist_ok=True)\r\n",
        "    results = search_images_ddg(f'{c} flag',max_n = 50)\r\n",
        "    download_images(dest, urls=results)\r\n",
        "    clean_folder(cc)\r\n",
        "    results = search_images_ddg(f'{c} flagpost',max_n = 50)\r\n",
        "    download_images(dest, urls=results)\r\n",
        "    results = search_images_ddg(f'{c} flag badge',max_n = 20)\r\n",
        "    download_images(dest, urls=results)\r\n"
      ],
      "execution_count": 60,
      "outputs": []
    },
    {
      "cell_type": "code",
      "metadata": {
        "id": "ViosBLXWGDku",
        "outputId": "56adabe0-dbd5-4fe9-b4ea-e33587befc54",
        "colab": {
          "base_uri": "https://localhost:8080/"
        }
      },
      "source": [
        ""
      ],
      "execution_count": 66,
      "outputs": [
        {
          "output_type": "stream",
          "text": [
            "DE\n",
            "AF\n",
            "US\n",
            "NL\n"
          ],
          "name": "stdout"
        }
      ]
    },
    {
      "cell_type": "markdown",
      "metadata": {
        "id": "G2DWtn6dUTuC"
      },
      "source": [
        "### 2. Verify Images\n",
        "- First, create a list of all your images\n",
        "- Use `verify_images` and `unlink` to remove broken images"
      ]
    },
    {
      "cell_type": "code",
      "metadata": {
        "id": "paQU1C7hRwdD"
      },
      "source": [
        "# Write your code here"
      ],
      "execution_count": null,
      "outputs": []
    },
    {
      "cell_type": "markdown",
      "metadata": {
        "id": "ofYTnNAR-9MY"
      },
      "source": [
        "### 3. Create the DataBlock\n",
        "For this, you need to think of:\n",
        "- What kinds of data we are working with\n",
        "- How to get the list of items\n",
        "- How to label these items\n",
        "- How to create the validation set\n",
        "\n",
        "Use `RandomResizedCrop` for `item_tfms`with an image size of 224 px, and the appropriate `aug_transforms` as `batch_tfms`."
      ]
    },
    {
      "cell_type": "code",
      "metadata": {
        "id": "K0OZBgHsVlak"
      },
      "source": [
        "# Write your code here"
      ],
      "execution_count": null,
      "outputs": []
    },
    {
      "cell_type": "markdown",
      "metadata": {
        "id": "eNTCepZIxMAX"
      },
      "source": [
        "### 4. Create the DataLoaders"
      ]
    },
    {
      "cell_type": "code",
      "metadata": {
        "id": "CxgeEGgBxMAX"
      },
      "source": [
        "# Write your code here"
      ],
      "execution_count": null,
      "outputs": []
    },
    {
      "cell_type": "markdown",
      "metadata": {
        "id": "XSqwnxqHVsI1"
      },
      "source": [
        "### 5. Take a look at some of your pictures. \n",
        "Does everything look as expected?"
      ]
    },
    {
      "cell_type": "code",
      "metadata": {
        "id": "KiDCW4GkWGEh"
      },
      "source": [
        "# Write your code here"
      ],
      "execution_count": null,
      "outputs": []
    },
    {
      "cell_type": "markdown",
      "metadata": {
        "id": "NHPY-ROICpQS"
      },
      "source": [
        "## Modeling"
      ]
    },
    {
      "cell_type": "markdown",
      "metadata": {
        "id": "2QbIfj5hCz27"
      },
      "source": [
        "### 6. Create a learner\n",
        "\n",
        "Create an appropriate learner for your data\n",
        "- Choose an appropriate model [architecture](https://fastai1.fast.ai/vision.models.html)\n",
        "- Choose appropriate [metrics](https://docs.fast.ai/metrics.html) for your task"
      ]
    },
    {
      "cell_type": "code",
      "metadata": {
        "id": "MPbUxgzKqHf5"
      },
      "source": [
        "# Write your code here"
      ],
      "execution_count": null,
      "outputs": []
    },
    {
      "cell_type": "markdown",
      "metadata": {
        "id": "mZNWMhpdDGIx"
      },
      "source": [
        "### 7. Fit the model\n",
        "\n",
        "Use your knowdledge on model training to fit your model!"
      ]
    },
    {
      "cell_type": "code",
      "metadata": {
        "id": "t1Vg9n-6DImj"
      },
      "source": [
        "# Write your code here"
      ],
      "execution_count": null,
      "outputs": []
    },
    {
      "cell_type": "markdown",
      "metadata": {
        "id": "xStuybwxntEq"
      },
      "source": [
        "### 8. Evaluate the model\n",
        "\n",
        "You' ve already seen many ways to evaluate a model. Evaluate your model in a qualitative and quantitative manner."
      ]
    },
    {
      "cell_type": "code",
      "metadata": {
        "id": "bBbtzt8LqS_s"
      },
      "source": [
        "# Write your code here"
      ],
      "execution_count": null,
      "outputs": []
    },
    {
      "cell_type": "markdown",
      "metadata": {
        "id": "jemGOSnBxMAb"
      },
      "source": [
        "### 9. Clean your data\n",
        "\n",
        "Based on the evaluation, you may want to clean your data using the `ImageClassifierCleaner`.\n",
        "- Remeber to delete the selected data after using the cleaner:\n",
        "    ```python\n",
        "    for idx in cleaner.delete(): cleaner.fns[idx].unlink()\n",
        "    ```\n",
        "    \n",
        "    \n",
        "- Once we've cleaned up our data, we can retrain our model. \n",
        "\n"
      ]
    },
    {
      "cell_type": "code",
      "metadata": {
        "id": "z0cEL8B_xMAb"
      },
      "source": [
        "# Write your code here"
      ],
      "execution_count": null,
      "outputs": []
    },
    {
      "cell_type": "markdown",
      "metadata": {
        "id": "ssyYdCdbvDZU"
      },
      "source": [
        "## Turning Your Model into an Online Application"
      ]
    },
    {
      "cell_type": "markdown",
      "metadata": {
        "id": "6cEh8iR2vDZY"
      },
      "source": [
        "Now, take your app into production. You can follow the steps from the lecure:\n",
        "\n",
        "- Export your model via `learn.export`\n",
        "- Upload your model to [Github Releases](https://docs.github.com/en/free-pro-team@latest/github/administering-a-repository/about-releases) to make it publicly available at your repository.\n",
        "- Create and upload a new notebook that only contains the necassary code and IPython widgets for your App. \n",
        "    - Remeber to download the exported model from *Github Releases*\n",
        "    - Include a brief description of your app and the functionalities\n",
        "- Publish your web app on [Binder](https://mybinder.org/) using Voilà\n",
        "\n",
        "You can use the [example](https://github.com/pds2021/course/blob/main/nbs/07_Bear_App.ipynb) from the lecture as an orientation.\n",
        "\n",
        "If you're familiar with the world of web application development, you're free to use these skills and all your tools and ressources!"
      ]
    },
    {
      "cell_type": "code",
      "metadata": {
        "id": "sl91uVMvvDZY"
      },
      "source": [
        "# Write your code here"
      ],
      "execution_count": null,
      "outputs": []
    },
    {
      "cell_type": "markdown",
      "metadata": {
        "id": "qOD8wCrpxMAh"
      },
      "source": [
        "## Finally, Provide a Link to Your App"
      ]
    },
    {
      "cell_type": "code",
      "metadata": {
        "id": "QAdxXBPVxMAi"
      },
      "source": [
        "# Provide the link to your web app"
      ],
      "execution_count": null,
      "outputs": []
    }
  ]
}
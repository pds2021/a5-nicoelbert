{
 "cells": [
  {
   "cell_type": "markdown",
   "metadata": {
    "colab_type": "text",
    "id": "tGc2_6yfntEV"
   },
   "source": [
    "*Practical Data Science 20/21*\n",
    "# Programming Assignment 5 - Create your own App"
   ]
  },
  {
   "cell_type": "markdown",
   "metadata": {
    "colab_type": "text",
    "id": "IoLPBsbcntEY"
   },
   "source": [
    "In this programming assignment you'll build a model that serves as a foundation for your own app. To this end, you will create your own dataset, build a deep learning model on this data, and deploy it!"
   ]
  },
  {
   "cell_type": "code",
   "execution_count": null,
   "metadata": {
    "colab": {},
    "colab_type": "code",
    "id": "1LFwWTzNF40e"
   },
   "outputs": [],
   "source": [
    "#!pip install -Uqq fastai  # upgrade fastai on colab\n",
    "from fastai.vision.all import *\n",
    "from fastai.vision.widgets import *"
   ]
  },
  {
   "cell_type": "markdown",
   "metadata": {
    "colab_type": "text",
    "id": "W66apl0K_0-p"
   },
   "source": [
    "__Google Drive integration__\n",
    "\n",
    "If you want to store and access your downloaded data for this assignment you can use the following code:"
   ]
  },
  {
   "cell_type": "code",
   "execution_count": null,
   "metadata": {
    "colab": {},
    "colab_type": "code",
    "id": "yGFt-2HA_wEF"
   },
   "outputs": [],
   "source": [
    "from google.colab import drive\n",
    "drive.mount('/content/drive')\n",
    "!mkdir /content/drive/My\\ Drive/pds_a5\n",
    "%cd /content/drive/My\\ Drive/pds_a5"
   ]
  },
  {
   "cell_type": "markdown",
   "metadata": {
    "colab_type": "text",
    "id": "0jMXp_ssBLeN"
   },
   "source": [
    "## Develop an Application Idea"
   ]
  },
  {
   "cell_type": "markdown",
   "metadata": {
    "colab_type": "text",
    "id": "KubOl5bIGf1J"
   },
   "source": [
    "___Free your mind - this part is totally up to you.___\n",
    "\n",
    "Think of an app that you'd like to build.\n",
    "*   What useful app have you been missing?\n",
    "*   Do you have any hobbies an app could be helpful for?\n",
    "*   Is this a suitable classification or regression task? \n",
    "*   How could you get the data?\n"
   ]
  },
  {
   "cell_type": "code",
   "execution_count": null,
   "metadata": {
    "colab": {},
    "colab_type": "code",
    "id": "sy7CThSkC5mP"
   },
   "outputs": [],
   "source": [
    "# Write down your app idea here"
   ]
  },
  {
   "cell_type": "markdown",
   "metadata": {
    "colab_type": "text",
    "id": "DNhyJFz47hf3"
   },
   "source": [
    "You can get an inspiration from these Apps:\n",
    "\n",
    "<table>\n",
    "<tr>\n",
    "<td> <img src=\"https://github.com/hiromis/notes/raw/master/lesson3/5.png\"> <br><a href=\"https://forums.fast.ai/t/share-your-work-here/27676/400\">Guitar Classifier</a> by Christian Werner</td><td> <img src=\"https://github.com/hiromis/notes/raw/master/lesson3/6.png\"><br><a href=\"https://forums.fast.ai/t/share-your-work-here/27676/340\">Healthy or Not!</a> by Nikhil Utane </td><td> <img src=\"https://github.com/hiromis/notes/raw/master/lesson3/7.png\"> <br><a href=\"https://forums.fast.ai/t/share-your-work-here/27676/333\">Hummingbird Classifier</a> by Nissan Dookeran</td>\n",
    "</tr><tr>\n",
    "<td> <img src=\"https://github.com/hiromis/notes/raw/master/lesson3/8.png\"> <br><a href=\"https://forums.fast.ai/t/share-your-work-here/27676/409\">Edible Mushroom?</a> by Ramon</td><td> <img src=\"https://github.com/hiromis/notes/raw/master/lesson3/9.png\"><br> <a href=\"https://forums.fast.ai/t/share-your-work-here/27676/387\">Cousin Recognizer</a> by Charlie Harrington</td><td> <img src=\"https://github.com/hiromis/notes/raw/master/lesson3/10.png\"><br> <a href=\"https://forums.fast.ai/t/share-your-work-here/27676/386\">Emotion Classifier</a> by Ethan Sutin and Team 26</td>\n",
    "</tr><tr>\n",
    "<td> <img src=\"https://github.com/hiromis/notes/raw/master/lesson3/11.png\"> <br><a href=\"https://forums.fast.ai/t/share-your-work-here/27676/350\">American Sign Language</a> by Keyur Paralkar</td><td> <img src=\"https://github.com/hiromis/notes/raw/master/lesson3/12.png\"> <br><a href=\"https://forums.fast.ai/t/share-your-work-here/27676/355\">Your City from Space</a> by Henri Palacci</td><td> <img src=\"https://github.com/hiromis/notes/raw/master/lesson3/13.png\"> <br><a href=\"https://forums.fast.ai/t/share-your-work-here/27676/367\">Univariate TS as images using Gramian Angular Field</a> by Ignacio Oguiza</td>\n",
    "</tr><tr>\n",
    "<td> <img src=\"https://github.com/hiromis/notes/raw/master/lesson3/14.png\"> <br><a href=\"https://forums.fast.ai/t/share-your-work-here/27676/348\">Face Expression Recognition</a> by Pierre Guillou</td><td> <img src=\"https://github.com/hiromis/notes/raw/master/lesson3/15.png\"><br><a href=\"https://forums.fast.ai/t/share-your-work-here/27676/352\">Tumor-normal sequencing</a> by Alena Harley</td><td>  </td>\n",
    "</tr><table>"
   ]
  },
  {
   "cell_type": "markdown",
   "metadata": {
    "colab_type": "text",
    "id": "JcWF9CzcntEb"
   },
   "source": [
    "## Creating your own Dataset\n",
    "\n",
    "Now you need to construct a dataset that allows you to train a model for your app. You learned about how to create a dataset in Lecture 7.\n",
    "\n",
    "Here, you can follow the steps from the lecture or look into the following ressources:\n",
    "\n",
    "*   A [tool](https://github.com/toffebjorkskog/ml-tools/blob/master/gi2ds.md) for excluding irrelevant images from Google Image Search results beforehand by @melonkernel\n",
    "*   See this [post](https://www.christianwerner.net/tech/Build-your-image-dataset-faster/) about an alternative image downloader/cleaner by @cwerner\n",
    "*   Of course, you can use your own data/images :) "
   ]
  },
  {
   "cell_type": "markdown",
   "metadata": {
    "colab_type": "text",
    "id": "_1Ex4FjsQvdw"
   },
   "source": [
    "### 1. Dowload the data \n",
    "- You may use the helper functions from the lecture to get the image URLs\n",
    "- Create a new folder at your defined `path`\n",
    "- Use `download_image` to download the images into the corresponding (sub-)directories"
   ]
  },
  {
   "cell_type": "code",
   "execution_count": null,
   "metadata": {},
   "outputs": [],
   "source": [
    "# Write your code here"
   ]
  },
  {
   "cell_type": "markdown",
   "metadata": {
    "colab_type": "text",
    "id": "G2DWtn6dUTuC"
   },
   "source": [
    "### 2. Verify Images\n",
    "- First, create a list of all your images\n",
    "- Use `verify_images` and `unlink` to remove broken images"
   ]
  },
  {
   "cell_type": "code",
   "execution_count": null,
   "metadata": {
    "colab": {},
    "colab_type": "code",
    "id": "paQU1C7hRwdD"
   },
   "outputs": [],
   "source": [
    "# Write your code here"
   ]
  },
  {
   "cell_type": "markdown",
   "metadata": {
    "colab_type": "text",
    "id": "ofYTnNAR-9MY"
   },
   "source": [
    "### 3. Create the DataBlock\n",
    "For this, you need to think of:\n",
    "- What kinds of data we are working with\n",
    "- How to get the list of items\n",
    "- How to label these items\n",
    "- How to create the validation set\n",
    "\n",
    "Use `RandomResizedCrop` for `item_tfms`with an image size of 224 px, and the appropriate `aug_transforms` as `batch_tfms`."
   ]
  },
  {
   "cell_type": "code",
   "execution_count": null,
   "metadata": {
    "colab": {},
    "colab_type": "code",
    "id": "K0OZBgHsVlak"
   },
   "outputs": [],
   "source": [
    "# Write your code here"
   ]
  },
  {
   "cell_type": "markdown",
   "metadata": {},
   "source": [
    "### 4. Create the DataLoaders"
   ]
  },
  {
   "cell_type": "code",
   "execution_count": null,
   "metadata": {},
   "outputs": [],
   "source": [
    "# Write your code here"
   ]
  },
  {
   "cell_type": "markdown",
   "metadata": {
    "colab_type": "text",
    "id": "XSqwnxqHVsI1"
   },
   "source": [
    "### 5. Take a look at some of your pictures. \n",
    "Does everything look as expected?"
   ]
  },
  {
   "cell_type": "code",
   "execution_count": null,
   "metadata": {
    "colab": {},
    "colab_type": "code",
    "id": "KiDCW4GkWGEh"
   },
   "outputs": [],
   "source": [
    "# Write your code here"
   ]
  },
  {
   "cell_type": "markdown",
   "metadata": {
    "colab_type": "text",
    "id": "NHPY-ROICpQS"
   },
   "source": [
    "## Modeling"
   ]
  },
  {
   "cell_type": "markdown",
   "metadata": {
    "colab_type": "text",
    "id": "2QbIfj5hCz27"
   },
   "source": [
    "### 6. Create a learner\n",
    "\n",
    "Create an appropriate learner for your data\n",
    "- Choose an appropriate model [architecture](https://fastai1.fast.ai/vision.models.html)\n",
    "- Choose appropriate [metrics](https://docs.fast.ai/metrics.html) for your task"
   ]
  },
  {
   "cell_type": "code",
   "execution_count": null,
   "metadata": {
    "colab": {},
    "colab_type": "code",
    "id": "MPbUxgzKqHf5"
   },
   "outputs": [],
   "source": [
    "# Write your code here"
   ]
  },
  {
   "cell_type": "markdown",
   "metadata": {
    "colab_type": "text",
    "id": "mZNWMhpdDGIx"
   },
   "source": [
    "### 7. Fit the model\n",
    "\n",
    "Use your knowdledge on model training to fit your model!"
   ]
  },
  {
   "cell_type": "code",
   "execution_count": null,
   "metadata": {
    "colab": {},
    "colab_type": "code",
    "id": "t1Vg9n-6DImj"
   },
   "outputs": [],
   "source": [
    "# Write your code here"
   ]
  },
  {
   "cell_type": "markdown",
   "metadata": {
    "colab_type": "text",
    "id": "xStuybwxntEq"
   },
   "source": [
    "### 8. Evaluate the model\n",
    "\n",
    "You' ve already seen many ways to evaluate a model. Evaluate your model in a qualitative and quantitative manner."
   ]
  },
  {
   "cell_type": "code",
   "execution_count": null,
   "metadata": {
    "colab": {},
    "colab_type": "code",
    "id": "bBbtzt8LqS_s"
   },
   "outputs": [],
   "source": [
    "# Write your code here"
   ]
  },
  {
   "cell_type": "markdown",
   "metadata": {},
   "source": [
    "### 9. Clean your data\n",
    "\n",
    "Based on the evaluation, you may want to clean your data using the `ImageClassifierCleaner`.\n",
    "- Remeber to delete the selected data after using the cleaner:\n",
    "    ```python\n",
    "    for idx in cleaner.delete(): cleaner.fns[idx].unlink()\n",
    "    ```\n",
    "    \n",
    "    \n",
    "- Once we've cleaned up our data, we can retrain our model. \n",
    "\n"
   ]
  },
  {
   "cell_type": "code",
   "execution_count": null,
   "metadata": {},
   "outputs": [],
   "source": [
    "# Write your code here"
   ]
  },
  {
   "cell_type": "markdown",
   "metadata": {
    "colab_type": "text",
    "id": "ssyYdCdbvDZU"
   },
   "source": [
    "## Turning Your Model into an Online Application"
   ]
  },
  {
   "cell_type": "markdown",
   "metadata": {
    "colab_type": "text",
    "id": "6cEh8iR2vDZY"
   },
   "source": [
    "Now, take your app into production. You can follow the steps from the lecure:\n",
    "\n",
    "- Export your model via `learn.export`\n",
    "- Upload your model to [Github Releases](https://docs.github.com/en/free-pro-team@latest/github/administering-a-repository/about-releases) to make it publicly available at your repository.\n",
    "- Create and upload a new notebook that only contains the necassary code and IPython widgets for your App. \n",
    "    - Remeber to download the exported model from *Github Releases*\n",
    "    - Include a brief description of your app and the functionalities\n",
    "- Publish your web app on [Binder](https://mybinder.org/) using Voilà\n",
    "\n",
    "You can use the [example](https://github.com/pds2021/course/blob/main/nbs/07_Bear_App.ipynb) from the lecture as an orientation.\n",
    "\n",
    "If you're familiar with the world of web application development, you're free to use these skills and all your tools and ressources!"
   ]
  },
  {
   "cell_type": "code",
   "execution_count": null,
   "metadata": {
    "colab": {},
    "colab_type": "code",
    "id": "sl91uVMvvDZY"
   },
   "outputs": [],
   "source": [
    "# Write your code here"
   ]
  },
  {
   "cell_type": "markdown",
   "metadata": {},
   "source": [
    "## Finally, Provide a Link to Your App"
   ]
  },
  {
   "cell_type": "code",
   "execution_count": null,
   "metadata": {},
   "outputs": [],
   "source": [
    "# Provide the link to your web app"
   ]
  }
 ],
 "metadata": {
  "accelerator": "GPU",
  "colab": {
   "collapsed_sections": [],
   "name": "Assignment_5.ipynb",
   "provenance": [],
   "toc_visible": true
  },
  "kernelspec": {
   "display_name": "fastai",
   "language": "python",
   "name": "fastai"
  },
  "language_info": {
   "codemirror_mode": {
    "name": "ipython",
    "version": 3
   },
   "file_extension": ".py",
   "mimetype": "text/x-python",
   "name": "python",
   "nbconvert_exporter": "python",
   "pygments_lexer": "ipython3",
   "version": "3.8.6"
  },
  "toc": {
   "base_numbering": 1,
   "nav_menu": {},
   "number_sections": true,
   "sideBar": true,
   "skip_h1_title": true,
   "title_cell": "Table of Contents",
   "title_sidebar": "Contents",
   "toc_cell": false,
   "toc_position": {},
   "toc_section_display": true,
   "toc_window_display": false
  }
 },
 "nbformat": 4,
 "nbformat_minor": 4
}
